{
 "cells": [
  {
   "cell_type": "code",
   "execution_count": 2,
   "metadata": {},
   "outputs": [],
   "source": [
    "from bs4 import BeautifulSoup\n",
    "import requests"
   ]
  },
  {
   "cell_type": "code",
   "execution_count": 2,
   "metadata": {},
   "outputs": [
    {
     "data": {
      "text/plain": [
       "<Response [200]>"
      ]
     },
     "execution_count": 2,
     "metadata": {},
     "output_type": "execute_result"
    }
   ],
   "source": [
    "page = requests.get(\"https://en.wikipedia.org/wiki/Main_Page\")\n",
    "page"
   ]
  },
  {
   "cell_type": "code",
   "execution_count": 3,
   "metadata": {},
   "outputs": [],
   "source": [
    "# how page ook like\n",
    "page = page.content"
   ]
  },
  {
   "cell_type": "code",
   "execution_count": 4,
   "metadata": {},
   "outputs": [],
   "source": [
    "soup = BeautifulSoup(page)"
   ]
  },
  {
   "cell_type": "code",
   "execution_count": 5,
   "metadata": {},
   "outputs": [],
   "source": [
    "prettify = soup.prettify()"
   ]
  },
  {
   "cell_type": "markdown",
   "metadata": {},
   "source": [
    "# 1. Write a python program to display all the header tags from‘en.wikipedia.org/wiki/Main_Page’."
   ]
  },
  {
   "cell_type": "code",
   "execution_count": 22,
   "metadata": {},
   "outputs": [
    {
     "name": "stdout",
     "output_type": "stream",
     "text": [
      "List all the header tags :\n",
      "\n",
      "<h1 class=\"firstHeading\" id=\"firstHeading\">Main Page</h1>\n",
      "\n",
      "<h2 class=\"mp-h2\" id=\"mp-tfa-h2\"><span id=\"From_today.27s_featured_article\"></span><span class=\"mw-headline\" id=\"From_today's_featured_article\">From today's featured article</span></h2>\n",
      "\n",
      "<h2 class=\"mp-h2\" id=\"mp-dyk-h2\"><span class=\"mw-headline\" id=\"Did_you_know_...\">Did you know ...</span></h2>\n",
      "\n",
      "<h2 class=\"mp-h2\" id=\"mp-itn-h2\"><span class=\"mw-headline\" id=\"In_the_news\">In the news</span></h2>\n",
      "\n",
      "<h2 class=\"mp-h2\" id=\"mp-otd-h2\"><span class=\"mw-headline\" id=\"On_this_day\">On this day</span></h2>\n",
      "\n",
      "<h2 class=\"mp-h2\" id=\"mp-tfp-h2\"><span id=\"Today.27s_featured_picture\"></span><span class=\"mw-headline\" id=\"Today's_featured_picture\">Today's featured picture</span></h2>\n",
      "\n",
      "<h2 class=\"mp-h2\" id=\"mp-other\"><span class=\"mw-headline\" id=\"Other_areas_of_Wikipedia\">Other areas of Wikipedia</span></h2>\n",
      "\n",
      "<h2 class=\"mp-h2\" id=\"mp-sister\"><span id=\"Wikipedia.27s_sister_projects\"></span><span class=\"mw-headline\" id=\"Wikipedia's_sister_projects\">Wikipedia's sister projects</span></h2>\n",
      "\n",
      "<h2 class=\"mp-h2\" id=\"mp-lang\"><span class=\"mw-headline\" id=\"Wikipedia_languages\">Wikipedia languages</span></h2>\n",
      "\n",
      "<h2>Navigation menu</h2>\n",
      "\n",
      "<h3 aria-label=\"\" class=\"vector-menu-heading\" id=\"p-personal-label\">\n",
      "<span>Personal tools</span>\n",
      "</h3>\n",
      "\n",
      "<h3 aria-label=\"\" class=\"vector-menu-heading\" id=\"p-namespaces-label\">\n",
      "<span>Namespaces</span>\n",
      "</h3>\n",
      "\n",
      "<h3 aria-label=\"Change language variant\" class=\"vector-menu-heading\" id=\"p-variants-label\">\n",
      "<span>Variants</span>\n",
      "<span class=\"vector-menu-checkbox-expanded\">expanded</span>\n",
      "<span class=\"vector-menu-checkbox-collapsed\">collapsed</span>\n",
      "</h3>\n",
      "\n",
      "<h3 aria-label=\"\" class=\"vector-menu-heading\" id=\"p-views-label\">\n",
      "<span>Views</span>\n",
      "</h3>\n",
      "\n",
      "<h3 aria-label=\"\" class=\"vector-menu-heading\" id=\"p-cactions-label\">\n",
      "<span>More</span>\n",
      "<span class=\"vector-menu-checkbox-expanded\">expanded</span>\n",
      "<span class=\"vector-menu-checkbox-collapsed\">collapsed</span>\n",
      "</h3>\n",
      "\n",
      "<h3>\n",
      "<label for=\"searchInput\">Search</label>\n",
      "</h3>\n",
      "\n",
      "<h3 aria-label=\"\" class=\"vector-menu-heading\" id=\"p-navigation-label\">\n",
      "<span>Navigation</span>\n",
      "</h3>\n",
      "\n",
      "<h3 aria-label=\"\" class=\"vector-menu-heading\" id=\"p-interaction-label\">\n",
      "<span>Contribute</span>\n",
      "</h3>\n",
      "\n",
      "<h3 aria-label=\"\" class=\"vector-menu-heading\" id=\"p-tb-label\">\n",
      "<span>Tools</span>\n",
      "</h3>\n",
      "\n",
      "<h3 aria-label=\"\" class=\"vector-menu-heading\" id=\"p-coll-print_export-label\">\n",
      "<span>Print/export</span>\n",
      "</h3>\n",
      "\n",
      "<h3 aria-label=\"\" class=\"vector-menu-heading\" id=\"p-wikibase-otherprojects-label\">\n",
      "<span>In other projects</span>\n",
      "</h3>\n",
      "\n",
      "<h3 aria-label=\"\" class=\"vector-menu-heading\" id=\"p-lang-label\">\n",
      "<span>Languages</span>\n",
      "</h3>\n"
     ]
    }
   ],
   "source": [
    "titles = soup.find_all(['h1', 'h2','h3','h4','h5','h6'])\n",
    "print('List all the header tags :', *titles, sep='\\n\\n')"
   ]
  },
  {
   "cell_type": "markdown",
   "metadata": {},
   "source": [
    "# 2. Write a python program to display IMDB’s Top rated 100 movies’ data (i.e. Name, IMDB rating, Year of release)."
   ]
  },
  {
   "cell_type": "code",
   "execution_count": 23,
   "metadata": {},
   "outputs": [
    {
     "data": {
      "text/plain": [
       "<Response [200]>"
      ]
     },
     "execution_count": 23,
     "metadata": {},
     "output_type": "execute_result"
    }
   ],
   "source": [
    "page = requests.get('http://www.imdb.com/chart/top')\n",
    "page"
   ]
  },
  {
   "cell_type": "code",
   "execution_count": 73,
   "metadata": {},
   "outputs": [],
   "source": [
    "url = 'http://www.imdb.com/chart/top'\n",
    "response = requests.get(url)\n",
    "soup = BeautifulSoup(response.text, 'lxml')"
   ]
  },
  {
   "cell_type": "code",
   "execution_count": 74,
   "metadata": {},
   "outputs": [
    {
     "name": "stdout",
     "output_type": "stream",
     "text": [
      "250\n"
     ]
    }
   ],
   "source": [
    "tag = soup.find_all('td',class_ = 'titleColumn')\n",
    "\n",
    "Name = []\n",
    "for i in tag:\n",
    "    for j in i.find_all('a',href = True):\n",
    "        Name.append(j.text)\n",
    "print(len(Name))"
   ]
  },
  {
   "cell_type": "code",
   "execution_count": 75,
   "metadata": {},
   "outputs": [
    {
     "name": "stdout",
     "output_type": "stream",
     "text": [
      "250\n"
     ]
    }
   ],
   "source": [
    "years = soup.find_all('span',class_='secondaryInfo')\n",
    "year_of_release = []\n",
    "for i in years:\n",
    "    year_of_release.append(i.text)\n",
    "print(len(year_of_release))  "
   ]
  },
  {
   "cell_type": "code",
   "execution_count": 76,
   "metadata": {},
   "outputs": [
    {
     "name": "stdout",
     "output_type": "stream",
     "text": [
      "250\n"
     ]
    }
   ],
   "source": [
    "Ratings = soup.find_all('strong')\n",
    "\n",
    "rating = []\n",
    "for i in Ratings:\n",
    "    rating.append(i.text)\n",
    "    \n",
    "print(len(rating))"
   ]
  },
  {
   "cell_type": "code",
   "execution_count": 77,
   "metadata": {},
   "outputs": [
    {
     "data": {
      "text/html": [
       "<div>\n",
       "<style scoped>\n",
       "    .dataframe tbody tr th:only-of-type {\n",
       "        vertical-align: middle;\n",
       "    }\n",
       "\n",
       "    .dataframe tbody tr th {\n",
       "        vertical-align: top;\n",
       "    }\n",
       "\n",
       "    .dataframe thead th {\n",
       "        text-align: right;\n",
       "    }\n",
       "</style>\n",
       "<table border=\"1\" class=\"dataframe\">\n",
       "  <thead>\n",
       "    <tr style=\"text-align: right;\">\n",
       "      <th></th>\n",
       "      <th>Name</th>\n",
       "      <th>Ratings</th>\n",
       "      <th>year of release</th>\n",
       "    </tr>\n",
       "  </thead>\n",
       "  <tbody>\n",
       "    <tr>\n",
       "      <td>0</td>\n",
       "      <td>The Shawshank Redemption</td>\n",
       "      <td>9.2</td>\n",
       "      <td>(1994)</td>\n",
       "    </tr>\n",
       "    <tr>\n",
       "      <td>1</td>\n",
       "      <td>The Godfather</td>\n",
       "      <td>9.1</td>\n",
       "      <td>(1972)</td>\n",
       "    </tr>\n",
       "    <tr>\n",
       "      <td>2</td>\n",
       "      <td>The Godfather: Part II</td>\n",
       "      <td>9.0</td>\n",
       "      <td>(1974)</td>\n",
       "    </tr>\n",
       "    <tr>\n",
       "      <td>3</td>\n",
       "      <td>The Dark Knight</td>\n",
       "      <td>9.0</td>\n",
       "      <td>(2008)</td>\n",
       "    </tr>\n",
       "    <tr>\n",
       "      <td>4</td>\n",
       "      <td>12 Angry Men</td>\n",
       "      <td>8.9</td>\n",
       "      <td>(1957)</td>\n",
       "    </tr>\n",
       "    <tr>\n",
       "      <td>...</td>\n",
       "      <td>...</td>\n",
       "      <td>...</td>\n",
       "      <td>...</td>\n",
       "    </tr>\n",
       "    <tr>\n",
       "      <td>95</td>\n",
       "      <td>Jagten</td>\n",
       "      <td>8.3</td>\n",
       "      <td>(2012)</td>\n",
       "    </tr>\n",
       "    <tr>\n",
       "      <td>96</td>\n",
       "      <td>Requiem for a Dream</td>\n",
       "      <td>8.3</td>\n",
       "      <td>(2000)</td>\n",
       "    </tr>\n",
       "    <tr>\n",
       "      <td>97</td>\n",
       "      <td>Singin' in the Rain</td>\n",
       "      <td>8.3</td>\n",
       "      <td>(1952)</td>\n",
       "    </tr>\n",
       "    <tr>\n",
       "      <td>98</td>\n",
       "      <td>North by Northwest</td>\n",
       "      <td>8.3</td>\n",
       "      <td>(1959)</td>\n",
       "    </tr>\n",
       "    <tr>\n",
       "      <td>99</td>\n",
       "      <td>Eternal Sunshine of the Spotless Mind</td>\n",
       "      <td>8.3</td>\n",
       "      <td>(2004)</td>\n",
       "    </tr>\n",
       "  </tbody>\n",
       "</table>\n",
       "<p>100 rows × 3 columns</p>\n",
       "</div>"
      ],
      "text/plain": [
       "                                     Name Ratings year of release\n",
       "0                The Shawshank Redemption     9.2          (1994)\n",
       "1                           The Godfather     9.1          (1972)\n",
       "2                  The Godfather: Part II     9.0          (1974)\n",
       "3                         The Dark Knight     9.0          (2008)\n",
       "4                            12 Angry Men     8.9          (1957)\n",
       "..                                    ...     ...             ...\n",
       "95                                 Jagten     8.3          (2012)\n",
       "96                    Requiem for a Dream     8.3          (2000)\n",
       "97                    Singin' in the Rain     8.3          (1952)\n",
       "98                     North by Northwest     8.3          (1959)\n",
       "99  Eternal Sunshine of the Spotless Mind     8.3          (2004)\n",
       "\n",
       "[100 rows x 3 columns]"
      ]
     },
     "execution_count": 77,
     "metadata": {},
     "output_type": "execute_result"
    }
   ],
   "source": [
    "import pandas as pd\n",
    "IMDB_Top_rated_100_movie = pd.DataFrame({'Name':Name,\n",
    "                            'Ratings':rating,\n",
    "                            'year of release':year_of_release})\n",
    "IMDB_Top_rated_100_movie.head(100)"
   ]
  },
  {
   "cell_type": "markdown",
   "metadata": {},
   "source": [
    "# 3. Write a python program to display IMDB’s Top rated 100 Indian movies’ data (i.e. Name, IMDB rating, Year of release).\n"
   ]
  },
  {
   "cell_type": "code",
   "execution_count": 3,
   "metadata": {},
   "outputs": [],
   "source": [
    "url2 = 'https://www.imdb.com/india/top-rated-indian-movies/?ref_=ib_g_in_g_gg_kwd-921342028227_cr'\n",
    "response2 = requests.get(url2)\n",
    "soup2 = BeautifulSoup(response2.text, 'lxml')"
   ]
  },
  {
   "cell_type": "code",
   "execution_count": 4,
   "metadata": {},
   "outputs": [],
   "source": [
    "indian_movies = soup2.find_all('div',class_ = 'lister')"
   ]
  },
  {
   "cell_type": "code",
   "execution_count": 5,
   "metadata": {},
   "outputs": [],
   "source": [
    "tag2 = soup2.find_all('td',class_ = 'titleColumn')"
   ]
  },
  {
   "cell_type": "code",
   "execution_count": 48,
   "metadata": {},
   "outputs": [],
   "source": [
    "Name = []\n",
    "\n",
    "for i in tag2:\n",
    "    for j in i.find_all('a',href = True):\n",
    "        Name.append(j.text)\n",
    "\n",
    "len(Name)\n"
   ]
  },
  {
   "cell_type": "code",
   "execution_count": 51,
   "metadata": {},
   "outputs": [],
   "source": [
    "tag_n = soup2.find_all('td',class_='ratingColumn imdbRating')\n",
    "Ratings = soup2.find_all('strong')\n",
    "\n",
    "rating = []\n",
    "for i in Ratings:\n",
    "    rating.append(i.text)\n",
    "\n",
    "len(rating)"
   ]
  },
  {
   "cell_type": "code",
   "execution_count": 53,
   "metadata": {},
   "outputs": [],
   "source": [
    "years = soup2.find_all('span',class_='secondaryInfo')\n",
    "\n",
    "year_of_release = []\n",
    "for i in years:\n",
    "    year_of_release.append(i.text)\n",
    "    \n",
    "len(years)"
   ]
  },
  {
   "cell_type": "code",
   "execution_count": 62,
   "metadata": {},
   "outputs": [
    {
     "data": {
      "text/html": [
       "<div>\n",
       "<style scoped>\n",
       "    .dataframe tbody tr th:only-of-type {\n",
       "        vertical-align: middle;\n",
       "    }\n",
       "\n",
       "    .dataframe tbody tr th {\n",
       "        vertical-align: top;\n",
       "    }\n",
       "\n",
       "    .dataframe thead th {\n",
       "        text-align: right;\n",
       "    }\n",
       "</style>\n",
       "<table border=\"1\" class=\"dataframe\">\n",
       "  <thead>\n",
       "    <tr style=\"text-align: right;\">\n",
       "      <th></th>\n",
       "      <th>Name</th>\n",
       "      <th>Ratings</th>\n",
       "      <th>year of release</th>\n",
       "    </tr>\n",
       "  </thead>\n",
       "  <tbody>\n",
       "    <tr>\n",
       "      <td>0</td>\n",
       "      <td>Nayakan</td>\n",
       "      <td>8.5</td>\n",
       "      <td>(1987)</td>\n",
       "    </tr>\n",
       "    <tr>\n",
       "      <td>1</td>\n",
       "      <td>Anbe Sivam</td>\n",
       "      <td>8.5</td>\n",
       "      <td>(2003)</td>\n",
       "    </tr>\n",
       "    <tr>\n",
       "      <td>2</td>\n",
       "      <td>Pariyerum Perumal</td>\n",
       "      <td>8.5</td>\n",
       "      <td>(2018)</td>\n",
       "    </tr>\n",
       "    <tr>\n",
       "      <td>3</td>\n",
       "      <td>C/o Kancharapalem</td>\n",
       "      <td>8.5</td>\n",
       "      <td>(2018)</td>\n",
       "    </tr>\n",
       "    <tr>\n",
       "      <td>4</td>\n",
       "      <td>Golmaal</td>\n",
       "      <td>8.5</td>\n",
       "      <td>(1979)</td>\n",
       "    </tr>\n",
       "    <tr>\n",
       "      <td>...</td>\n",
       "      <td>...</td>\n",
       "      <td>...</td>\n",
       "      <td>...</td>\n",
       "    </tr>\n",
       "    <tr>\n",
       "      <td>95</td>\n",
       "      <td>Rang De Basanti</td>\n",
       "      <td>8.1</td>\n",
       "      <td>(2006)</td>\n",
       "    </tr>\n",
       "    <tr>\n",
       "      <td>96</td>\n",
       "      <td>OMG: Oh My God!</td>\n",
       "      <td>8.1</td>\n",
       "      <td>(2012)</td>\n",
       "    </tr>\n",
       "    <tr>\n",
       "      <td>97</td>\n",
       "      <td>Roja</td>\n",
       "      <td>8.1</td>\n",
       "      <td>(1992)</td>\n",
       "    </tr>\n",
       "    <tr>\n",
       "      <td>98</td>\n",
       "      <td>Uri: The Surgical Strike</td>\n",
       "      <td>8.1</td>\n",
       "      <td>(2019)</td>\n",
       "    </tr>\n",
       "    <tr>\n",
       "      <td>99</td>\n",
       "      <td>Lagaan: Once Upon a Time in India</td>\n",
       "      <td>8.1</td>\n",
       "      <td>(2001)</td>\n",
       "    </tr>\n",
       "  </tbody>\n",
       "</table>\n",
       "<p>100 rows × 3 columns</p>\n",
       "</div>"
      ],
      "text/plain": [
       "                                 Name Ratings year of release\n",
       "0                             Nayakan     8.5          (1987)\n",
       "1                          Anbe Sivam     8.5          (2003)\n",
       "2                   Pariyerum Perumal     8.5          (2018)\n",
       "3                   C/o Kancharapalem     8.5          (2018)\n",
       "4                             Golmaal     8.5          (1979)\n",
       "..                                ...     ...             ...\n",
       "95                    Rang De Basanti     8.1          (2006)\n",
       "96                    OMG: Oh My God!     8.1          (2012)\n",
       "97                               Roja     8.1          (1992)\n",
       "98           Uri: The Surgical Strike     8.1          (2019)\n",
       "99  Lagaan: Once Upon a Time in India     8.1          (2001)\n",
       "\n",
       "[100 rows x 3 columns]"
      ]
     },
     "execution_count": 62,
     "metadata": {},
     "output_type": "execute_result"
    }
   ],
   "source": [
    "import pandas as pd\n",
    "IMDB_Top_rated_100_indian_movie = pd.DataFrame({'Name':Name,\n",
    "                            'Ratings':rating,\n",
    "                            'year of release':year_of_release})\n",
    "IMDB_Top_rated_100_indian_movie.head(100)"
   ]
  },
  {
   "cell_type": "markdown",
   "metadata": {},
   "source": [
    "# 4. Write a python program to scrap book name, author name, genre and book review of any 5 books from‘www.bookpage.com’"
   ]
  },
  {
   "cell_type": "code",
   "execution_count": 1,
   "metadata": {},
   "outputs": [],
   "source": [
    "from bs4 import BeautifulSoup\n",
    "import requests"
   ]
  },
  {
   "cell_type": "code",
   "execution_count": 2,
   "metadata": {},
   "outputs": [],
   "source": [
    "url = 'https://bookpage.com/reviews/26605-helen-hoang-heart-principle-romance#.YVKtnzFBxPY'\n",
    "response = requests.get(url)\n",
    "soup = BeautifulSoup(response.text, 'lxml')"
   ]
  },
  {
   "cell_type": "code",
   "execution_count": 3,
   "metadata": {},
   "outputs": [],
   "source": [
    "Book_name = []\n",
    "Author_name = []\n",
    "Genre = []\n",
    "Book_review =[]"
   ]
  },
  {
   "cell_type": "markdown",
   "metadata": {},
   "source": [
    "BOOK - 1"
   ]
  },
  {
   "cell_type": "code",
   "execution_count": 4,
   "metadata": {},
   "outputs": [],
   "source": [
    "book1 = soup.find_all('h1',class_='italic')\n",
    "for i in book1:\n",
    "    Book_name.append(i.text.replace('\\n',''))\n",
    "    \n",
    "author1 = soup.find_all(\"h4\",class_='sans')\n",
    "for i in author1:\n",
    "    Author_name.append(i.text.replace('\\n',''))\n",
    "    \n",
    "review1 = soup.find_all('p',class_='sans bold author-info')\n",
    "for i in review1:\n",
    "    Book_review.append(i.text.replace('\\n',''))\n",
    "\n",
    "genre1 = soup.find_all('p',class_='genre-links')\n",
    "for i in genre1:\n",
    "    Genre.append(i.text.replace('\\n',''))\n",
    "    "
   ]
  },
  {
   "cell_type": "markdown",
   "metadata": {},
   "source": [
    "BOOK - 2"
   ]
  },
  {
   "cell_type": "code",
   "execution_count": 5,
   "metadata": {},
   "outputs": [],
   "source": [
    "url2 = 'https://bookpage.com/reviews/26633-penny-aimes-love-april-french-romance#.YVKytDFBxPY'\n",
    "response2 = requests.get(url2)\n",
    "soup2 = BeautifulSoup(response2.text, 'lxml')"
   ]
  },
  {
   "cell_type": "code",
   "execution_count": 6,
   "metadata": {},
   "outputs": [],
   "source": [
    "\n",
    "book2 = soup2.find_all('h1',class_='italic')\n",
    "for i in book2:\n",
    "    Book_name.append(i.text.replace('\\n',''))\n",
    "    \n",
    "author2 = soup2.find_all(\"h4\",class_='sans')\n",
    "for i in author2:\n",
    "    Author_name.append(i.text.replace('\\n',''))\n",
    "    \n",
    "review2 = soup2.find_all('p',class_='sans bold author-info')\n",
    "for i in review2:\n",
    "    Book_review.append(i.text.replace('\\n',''))\n",
    "\n",
    "genre2 = soup2.find_all('p',class_='genre-links')\n",
    "for i in genre2:\n",
    "    Genre.append(i.text.replace('\\n',''))\n"
   ]
  },
  {
   "cell_type": "markdown",
   "metadata": {},
   "source": [
    "BOOK - 3"
   ]
  },
  {
   "cell_type": "code",
   "execution_count": 7,
   "metadata": {},
   "outputs": [],
   "source": [
    "url3 = 'https://bookpage.com/reviews/26660-anthony-doerr-cloud-cuckoo-land-fiction#.YVKzfzFBxPY'\n",
    "response3 = requests.get(url3)\n",
    "soup3 = BeautifulSoup(response3.text, 'lxml')"
   ]
  },
  {
   "cell_type": "code",
   "execution_count": 8,
   "metadata": {},
   "outputs": [],
   "source": [
    "book3 = soup3.find_all('h1',class_='italic')\n",
    "for i in book3:\n",
    "    Book_name.append(i.text.replace('\\n',''))\n",
    "    \n",
    "author3 = soup3.find_all(\"h4\",class_='sans')\n",
    "for i in author3:\n",
    "    Author_name.append(i.text.replace('\\n',''))\n",
    "    \n",
    "review3 = soup3.find_all('p',class_='sans bold author-info')\n",
    "for i in review3:\n",
    "    Book_review.append(i.text.replace('\\n',''))\n",
    "\n",
    "genre3 = soup3.find_all('p',class_='genre-links')\n",
    "for i in genre3:\n",
    "    Genre.append(i.text.replace('\\n',''))\n",
    "    "
   ]
  },
  {
   "cell_type": "markdown",
   "metadata": {},
   "source": [
    "BOOK - 4"
   ]
  },
  {
   "cell_type": "code",
   "execution_count": 9,
   "metadata": {},
   "outputs": [],
   "source": [
    "url4 = 'https://bookpage.com/reviews/26715-craig-johnson-daughter-morning-star-mystery-suspense#.YVK0QzFBxPY'\n",
    "response4 = requests.get(url4)\n",
    "soup4 = BeautifulSoup(response4.text, 'lxml')"
   ]
  },
  {
   "cell_type": "code",
   "execution_count": 10,
   "metadata": {},
   "outputs": [],
   "source": [
    "book4 = soup4.find_all('h1',class_='italic')\n",
    "for i in book4:\n",
    "    Book_name.append(i.text.replace('\\n',''))\n",
    "    \n",
    "author4 = soup4.find_all(\"h4\",class_='sans')\n",
    "for i in author4:\n",
    "    Author_name.append(i.text.replace('\\n',''))\n",
    "    \n",
    "review4 = soup4.find_all('p',class_='sans bold author-info')\n",
    "for i in review4:\n",
    "    Book_review.append(i.text.replace('\\n',''))\n",
    "\n",
    "genre4 = soup4.find_all('p',class_='genre-links')\n",
    "for i in genre4:\n",
    "    Genre.append(i.text.replace('\\n',''))\n",
    "    "
   ]
  },
  {
   "cell_type": "markdown",
   "metadata": {},
   "source": [
    "BOOK - 5"
   ]
  },
  {
   "cell_type": "code",
   "execution_count": 11,
   "metadata": {},
   "outputs": [],
   "source": [
    "url5 = 'https://bookpage.com/reviews/26686-christina-henry-horseman-science-fiction-fantasy'\n",
    "response5 = requests.get(url5)\n",
    "soup5 = BeautifulSoup(response5.text, 'lxml')"
   ]
  },
  {
   "cell_type": "code",
   "execution_count": 12,
   "metadata": {},
   "outputs": [],
   "source": [
    "book5 = soup5.find_all('h1',class_='italic')\n",
    "for i in book5:\n",
    "    Book_name.append(i.text.replace('\\n',''))\n",
    "    \n",
    "author5 = soup5.find_all(\"h4\",class_='sans')\n",
    "for i in author5:\n",
    "    Author_name.append(i.text.replace('\\n',''))\n",
    "    \n",
    "review5 = soup5.find_all('p',class_='sans bold author-info')\n",
    "for i in review5:\n",
    "    Book_review.append(i.text.replace('\\n',''))\n",
    "\n",
    "genre5 = soup5.find_all('p',class_='genre-links')\n",
    "for i in genre5:\n",
    "    Genre.append(i.text.replace('\\n',''))\n",
    "    "
   ]
  },
  {
   "cell_type": "code",
   "execution_count": 13,
   "metadata": {},
   "outputs": [
    {
     "data": {
      "text/html": [
       "<div>\n",
       "<style scoped>\n",
       "    .dataframe tbody tr th:only-of-type {\n",
       "        vertical-align: middle;\n",
       "    }\n",
       "\n",
       "    .dataframe tbody tr th {\n",
       "        vertical-align: top;\n",
       "    }\n",
       "\n",
       "    .dataframe thead th {\n",
       "        text-align: right;\n",
       "    }\n",
       "</style>\n",
       "<table border=\"1\" class=\"dataframe\">\n",
       "  <thead>\n",
       "    <tr style=\"text-align: right;\">\n",
       "      <th></th>\n",
       "      <th>Book Name</th>\n",
       "      <th>Author Name</th>\n",
       "      <th>Book Review</th>\n",
       "      <th>Genre</th>\n",
       "    </tr>\n",
       "  </thead>\n",
       "  <tbody>\n",
       "    <tr>\n",
       "      <td>0</td>\n",
       "      <td>★ The Heart Principle</td>\n",
       "      <td>Helen Hoang</td>\n",
       "      <td>Review byAmanda Diehl</td>\n",
       "      <td>Romance / Contemporary Romance</td>\n",
       "    </tr>\n",
       "    <tr>\n",
       "      <td>1</td>\n",
       "      <td>★ For the Love of April French</td>\n",
       "      <td>Penny Aimes</td>\n",
       "      <td>Review byAmanda Diehl</td>\n",
       "      <td>Romance / Contemporary Romance</td>\n",
       "    </tr>\n",
       "    <tr>\n",
       "      <td>2</td>\n",
       "      <td>★ Cloud Cuckoo Land</td>\n",
       "      <td>Anthony Doerr</td>\n",
       "      <td>Review bySarah McCraw Crow</td>\n",
       "      <td>Fiction / Literary Fiction</td>\n",
       "    </tr>\n",
       "    <tr>\n",
       "      <td>3</td>\n",
       "      <td>Daughter of the Morning Star</td>\n",
       "      <td>Craig Johnson</td>\n",
       "      <td>Review byG. Robert Frazier</td>\n",
       "      <td>Mystery &amp; Suspense / Mystery</td>\n",
       "    </tr>\n",
       "    <tr>\n",
       "      <td>4</td>\n",
       "      <td>Horseman</td>\n",
       "      <td>Christina Henry</td>\n",
       "      <td>Review byStephanie Cohen-Perez</td>\n",
       "      <td>Science Fiction &amp; Fantasy / Fantasy / Historic...</td>\n",
       "    </tr>\n",
       "  </tbody>\n",
       "</table>\n",
       "</div>"
      ],
      "text/plain": [
       "                        Book Name      Author Name  \\\n",
       "0           ★ The Heart Principle      Helen Hoang   \n",
       "1  ★ For the Love of April French      Penny Aimes   \n",
       "2             ★ Cloud Cuckoo Land    Anthony Doerr   \n",
       "3    Daughter of the Morning Star    Craig Johnson   \n",
       "4                        Horseman  Christina Henry   \n",
       "\n",
       "                      Book Review  \\\n",
       "0          Review byAmanda Diehl    \n",
       "1          Review byAmanda Diehl    \n",
       "2      Review bySarah McCraw Crow   \n",
       "3      Review byG. Robert Frazier   \n",
       "4  Review byStephanie Cohen-Perez   \n",
       "\n",
       "                                               Genre  \n",
       "0                     Romance / Contemporary Romance  \n",
       "1                     Romance / Contemporary Romance  \n",
       "2                         Fiction / Literary Fiction  \n",
       "3                       Mystery & Suspense / Mystery  \n",
       "4  Science Fiction & Fantasy / Fantasy / Historic...  "
      ]
     },
     "execution_count": 13,
     "metadata": {},
     "output_type": "execute_result"
    }
   ],
   "source": [
    "import pandas as pd\n",
    "books = pd.DataFrame({'Book Name':Book_name,\n",
    "                     'Author Name':Author_name,\n",
    "                     'Book Review':Book_review,\n",
    "                     'Genre':Genre})\n",
    "books\n"
   ]
  },
  {
   "cell_type": "markdown",
   "metadata": {},
   "source": [
    "# 5. Write a python program to scrape cricket rankings from icc-cricket."
   ]
  },
  {
   "cell_type": "markdown",
   "metadata": {},
   "source": [
    "i) Top 10 ODI teams in men’s cricket along with the records for matches, points and rating."
   ]
  },
  {
   "cell_type": "code",
   "execution_count": 2,
   "metadata": {},
   "outputs": [
    {
     "data": {
      "text/plain": [
       "<Response [200]>"
      ]
     },
     "execution_count": 2,
     "metadata": {},
     "output_type": "execute_result"
    }
   ],
   "source": [
    "page = requests.get('https://www.icc-cricket.com/rankings/mens/team-rankings/odi')\n",
    "page"
   ]
  },
  {
   "cell_type": "code",
   "execution_count": 43,
   "metadata": {},
   "outputs": [],
   "source": [
    "url = 'https://www.icc-cricket.com/rankings/mens/team-rankings/odi'\n",
    "response = requests.get(url)\n",
    "soup = BeautifulSoup(response.text, 'lxml')"
   ]
  },
  {
   "cell_type": "code",
   "execution_count": 44,
   "metadata": {},
   "outputs": [],
   "source": [
    "mens_odi = soup.find_all('span',class_ = 'u-hide-phablet')    "
   ]
  },
  {
   "cell_type": "code",
   "execution_count": 45,
   "metadata": {},
   "outputs": [
    {
     "name": "stdout",
     "output_type": "stream",
     "text": [
      "20\n"
     ]
    }
   ],
   "source": [
    "odi_teams = []\n",
    "for i in mens_odi:\n",
    "    odi_teams.append(i.text)\n",
    "\n",
    "print(len(odi_teams))\n"
   ]
  },
  {
   "cell_type": "code",
   "execution_count": 46,
   "metadata": {},
   "outputs": [],
   "source": [
    "match_points = []\n",
    "for k in soup.find_all('td',class_='rankings-block__banner--matches'):\n",
    "    match_points.append(k.text)\n",
    "for n in soup.find_all('td',class_='rankings-block__banner--points'):\n",
    "    match_points.append(n.text)\n",
    "\n",
    "for s in soup.find_all('td','table-body__cell u-center-text'):\n",
    "        match_points.append(s.text)\n"
   ]
  },
  {
   "cell_type": "code",
   "execution_count": 47,
   "metadata": {},
   "outputs": [
    {
     "data": {
      "text/plain": [
       "40"
      ]
     },
     "execution_count": 47,
     "metadata": {},
     "output_type": "execute_result"
    }
   ],
   "source": [
    "len(match_points)"
   ]
  },
  {
   "cell_type": "code",
   "execution_count": 48,
   "metadata": {},
   "outputs": [
    {
     "name": "stdout",
     "output_type": "stream",
     "text": [
      "20\n",
      "20\n"
     ]
    }
   ],
   "source": [
    "matches = []\n",
    "points = []\n",
    "for i in range(0,len(match_points)):\n",
    "    if i%2:\n",
    "        matches.append(match_points[i])\n",
    "    else:\n",
    "        points.append(match_points[i])\n",
    "print(len(matches))\n",
    "print(len(points))"
   ]
  },
  {
   "cell_type": "code",
   "execution_count": 49,
   "metadata": {},
   "outputs": [
    {
     "data": {
      "text/plain": [
       "20"
      ]
     },
     "execution_count": 49,
     "metadata": {},
     "output_type": "execute_result"
    }
   ],
   "source": [
    "Rating = []\n",
    "\n",
    "rating = soup.find_all('td',class_ = 'rankings-block__banner--rating u-text-right')\n",
    "rating2 = soup.find_all('td',class_ = 'table-body__cell u-text-right rating')\n",
    "\n",
    "for i in rating:\n",
    "    Rating.append(i.text.split())\n",
    "\n",
    "for i in rating2:\n",
    "    Rating.append(i.text)\n",
    "    \n",
    "len(Rating)"
   ]
  },
  {
   "cell_type": "code",
   "execution_count": 51,
   "metadata": {},
   "outputs": [
    {
     "data": {
      "text/html": [
       "<div>\n",
       "<style scoped>\n",
       "    .dataframe tbody tr th:only-of-type {\n",
       "        vertical-align: middle;\n",
       "    }\n",
       "\n",
       "    .dataframe tbody tr th {\n",
       "        vertical-align: top;\n",
       "    }\n",
       "\n",
       "    .dataframe thead th {\n",
       "        text-align: right;\n",
       "    }\n",
       "</style>\n",
       "<table border=\"1\" class=\"dataframe\">\n",
       "  <thead>\n",
       "    <tr style=\"text-align: right;\">\n",
       "      <th></th>\n",
       "      <th>ODI_teams</th>\n",
       "      <th>Matches</th>\n",
       "      <th>Points</th>\n",
       "      <th>Rating</th>\n",
       "    </tr>\n",
       "  </thead>\n",
       "  <tbody>\n",
       "    <tr>\n",
       "      <td>0</td>\n",
       "      <td>New Zealand</td>\n",
       "      <td>2,054</td>\n",
       "      <td>17</td>\n",
       "      <td>[121]</td>\n",
       "    </tr>\n",
       "    <tr>\n",
       "      <td>1</td>\n",
       "      <td>England</td>\n",
       "      <td>3,793</td>\n",
       "      <td>32</td>\n",
       "      <td>119</td>\n",
       "    </tr>\n",
       "    <tr>\n",
       "      <td>2</td>\n",
       "      <td>Australia</td>\n",
       "      <td>3,244</td>\n",
       "      <td>28</td>\n",
       "      <td>116</td>\n",
       "    </tr>\n",
       "    <tr>\n",
       "      <td>3</td>\n",
       "      <td>India</td>\n",
       "      <td>3,624</td>\n",
       "      <td>32</td>\n",
       "      <td>113</td>\n",
       "    </tr>\n",
       "    <tr>\n",
       "      <td>4</td>\n",
       "      <td>South Africa</td>\n",
       "      <td>2,459</td>\n",
       "      <td>25</td>\n",
       "      <td>98</td>\n",
       "    </tr>\n",
       "    <tr>\n",
       "      <td>5</td>\n",
       "      <td>Pakistan</td>\n",
       "      <td>2,524</td>\n",
       "      <td>27</td>\n",
       "      <td>93</td>\n",
       "    </tr>\n",
       "    <tr>\n",
       "      <td>6</td>\n",
       "      <td>Bangladesh</td>\n",
       "      <td>2,740</td>\n",
       "      <td>30</td>\n",
       "      <td>91</td>\n",
       "    </tr>\n",
       "    <tr>\n",
       "      <td>7</td>\n",
       "      <td>West Indies</td>\n",
       "      <td>2,523</td>\n",
       "      <td>30</td>\n",
       "      <td>84</td>\n",
       "    </tr>\n",
       "    <tr>\n",
       "      <td>8</td>\n",
       "      <td>Sri Lanka</td>\n",
       "      <td>2,657</td>\n",
       "      <td>32</td>\n",
       "      <td>83</td>\n",
       "    </tr>\n",
       "    <tr>\n",
       "      <td>9</td>\n",
       "      <td>Afghanistan</td>\n",
       "      <td>1,054</td>\n",
       "      <td>17</td>\n",
       "      <td>62</td>\n",
       "    </tr>\n",
       "  </tbody>\n",
       "</table>\n",
       "</div>"
      ],
      "text/plain": [
       "      ODI_teams Matches Points Rating\n",
       "0   New Zealand   2,054     17  [121]\n",
       "1       England   3,793     32    119\n",
       "2     Australia   3,244     28    116\n",
       "3         India   3,624     32    113\n",
       "4  South Africa   2,459     25     98\n",
       "5      Pakistan   2,524     27     93\n",
       "6    Bangladesh   2,740     30     91\n",
       "7   West Indies   2,523     30     84\n",
       "8     Sri Lanka   2,657     32     83\n",
       "9   Afghanistan   1,054     17     62"
      ]
     },
     "execution_count": 51,
     "metadata": {},
     "output_type": "execute_result"
    }
   ],
   "source": [
    "import pandas as pd\n",
    "ODI_teams_in_men_cricket = pd.DataFrame({'ODI_teams':odi_teams,\n",
    "                                        'Matches':matches,\n",
    "                                        'Points':points,\n",
    "                                        'Rating':Rating})\n",
    "ODI_teams_in_men_cricket.head(10)"
   ]
  },
  {
   "cell_type": "markdown",
   "metadata": {},
   "source": [
    "ii) Top 10 ODI Batsmen in men along with the records of their team and rating."
   ]
  },
  {
   "cell_type": "code",
   "execution_count": 45,
   "metadata": {},
   "outputs": [],
   "source": [
    "url = 'https://www.icc-cricket.com/rankings/mens/player-rankings/odi/batting'\n",
    "response = requests.get(url)\n",
    "soup = BeautifulSoup(response.text, 'lxml')\n"
   ]
  },
  {
   "cell_type": "code",
   "execution_count": 46,
   "metadata": {},
   "outputs": [
    {
     "data": {
      "text/plain": [
       "100"
      ]
     },
     "execution_count": 46,
     "metadata": {},
     "output_type": "execute_result"
    }
   ],
   "source": [
    "Batsman = []\n",
    "\n",
    "bats_man = soup.find_all('div',class_ = 'rankings-block__banner--name-large')\n",
    "bats_man2 = soup.find_all(\"td\",class_='table-body__cell rankings-table__name name')\n",
    "\n",
    "for i in bats_man:\n",
    "    Batsman.append(i.text)\n",
    "\n",
    "for i in bats_man2:\n",
    "    if i == 'Quinton de Kock':\n",
    "        break\n",
    "    Batsman.append(i.text.replace('\\n',''))\n",
    "    \n",
    "len(Batsman)    "
   ]
  },
  {
   "cell_type": "code",
   "execution_count": 47,
   "metadata": {},
   "outputs": [],
   "source": [
    "Team= []\n",
    "team = soup.find_all('div',class_ = 'rankings-block__banner--nationality')\n",
    "team2 = soup.find_all('span',class_ = 'table-body__logo-text')\n",
    "\n",
    "for i in team:\n",
    "    Team.append(i.text.replace('\\n',''))\n",
    "\n",
    "for i in team2:\n",
    "    Team.append(i.text)\n",
    "    \n",
    "len(Team)"
   ]
  },
  {
   "cell_type": "code",
   "execution_count": 48,
   "metadata": {},
   "outputs": [],
   "source": [
    "Rating= []\n",
    "\n",
    "rating = soup.find_all('div',class_ = 'rankings-block__banner--rating')\n",
    "rating2 = soup.find_all('td',class_ = 'table-body__cell rating')\n",
    "\n",
    "for i in rating:\n",
    "    Rating.append(i.text)\n",
    "\n",
    "for i in rating2:\n",
    "    Rating.append(i.text)\n",
    "\n",
    "len(Rating)"
   ]
  },
  {
   "cell_type": "code",
   "execution_count": 52,
   "metadata": {},
   "outputs": [
    {
     "data": {
      "text/html": [
       "<div>\n",
       "<style scoped>\n",
       "    .dataframe tbody tr th:only-of-type {\n",
       "        vertical-align: middle;\n",
       "    }\n",
       "\n",
       "    .dataframe tbody tr th {\n",
       "        vertical-align: top;\n",
       "    }\n",
       "\n",
       "    .dataframe thead th {\n",
       "        text-align: right;\n",
       "    }\n",
       "</style>\n",
       "<table border=\"1\" class=\"dataframe\">\n",
       "  <thead>\n",
       "    <tr style=\"text-align: right;\">\n",
       "      <th></th>\n",
       "      <th>Batsman</th>\n",
       "      <th>Team</th>\n",
       "      <th>Rating</th>\n",
       "    </tr>\n",
       "  </thead>\n",
       "  <tbody>\n",
       "    <tr>\n",
       "      <td>0</td>\n",
       "      <td>Babar Azam</td>\n",
       "      <td>PAK</td>\n",
       "      <td>873</td>\n",
       "    </tr>\n",
       "    <tr>\n",
       "      <td>1</td>\n",
       "      <td>Virat Kohli</td>\n",
       "      <td>IND</td>\n",
       "      <td>844</td>\n",
       "    </tr>\n",
       "    <tr>\n",
       "      <td>2</td>\n",
       "      <td>Rohit Sharma</td>\n",
       "      <td>IND</td>\n",
       "      <td>813</td>\n",
       "    </tr>\n",
       "    <tr>\n",
       "      <td>3</td>\n",
       "      <td>Ross Taylor</td>\n",
       "      <td>NZ</td>\n",
       "      <td>801</td>\n",
       "    </tr>\n",
       "    <tr>\n",
       "      <td>4</td>\n",
       "      <td>Aaron Finch</td>\n",
       "      <td>AUS</td>\n",
       "      <td>779</td>\n",
       "    </tr>\n",
       "    <tr>\n",
       "      <td>5</td>\n",
       "      <td>Jonny Bairstow</td>\n",
       "      <td>ENG</td>\n",
       "      <td>775</td>\n",
       "    </tr>\n",
       "    <tr>\n",
       "      <td>6</td>\n",
       "      <td>David Warner</td>\n",
       "      <td>AUS</td>\n",
       "      <td>762</td>\n",
       "    </tr>\n",
       "    <tr>\n",
       "      <td>7</td>\n",
       "      <td>Shai Hope</td>\n",
       "      <td>WI</td>\n",
       "      <td>758</td>\n",
       "    </tr>\n",
       "    <tr>\n",
       "      <td>8</td>\n",
       "      <td>Kane Williamson</td>\n",
       "      <td>NZ</td>\n",
       "      <td>754</td>\n",
       "    </tr>\n",
       "    <tr>\n",
       "      <td>9</td>\n",
       "      <td>Quinton de Kock</td>\n",
       "      <td>SA</td>\n",
       "      <td>747</td>\n",
       "    </tr>\n",
       "    <tr>\n",
       "      <td>10</td>\n",
       "      <td>Fakhar Zaman</td>\n",
       "      <td>PAK</td>\n",
       "      <td>741</td>\n",
       "    </tr>\n",
       "  </tbody>\n",
       "</table>\n",
       "</div>"
      ],
      "text/plain": [
       "            Batsman                     Team Rating\n",
       "0        Babar Azam  PAK                        873\n",
       "1       Virat Kohli                      IND    844\n",
       "2      Rohit Sharma                      IND    813\n",
       "3       Ross Taylor                       NZ    801\n",
       "4       Aaron Finch                      AUS    779\n",
       "5    Jonny Bairstow                      ENG    775\n",
       "6      David Warner                      AUS    762\n",
       "7         Shai Hope                       WI    758\n",
       "8   Kane Williamson                       NZ    754\n",
       "9   Quinton de Kock                       SA    747\n",
       "10     Fakhar Zaman                      PAK    741"
      ]
     },
     "execution_count": 52,
     "metadata": {},
     "output_type": "execute_result"
    }
   ],
   "source": [
    "import pandas as pd\n",
    "ODI_batsman_in_men = pd.DataFrame({'Batsman':Batsman,\n",
    "                                        'Team':Team,\n",
    "                                        'Rating':Rating})\n",
    "ODI_batsman_in_men.head(10)"
   ]
  },
  {
   "cell_type": "markdown",
   "metadata": {},
   "source": [
    "iii) Top 10 ODI bowlers along with the records of their team andrating."
   ]
  },
  {
   "cell_type": "code",
   "execution_count": 53,
   "metadata": {},
   "outputs": [],
   "source": [
    "url = 'https://www.icc-cricket.com/rankings/mens/player-rankings/odi/bowling'\n",
    "response = requests.get(url)\n",
    "soup = BeautifulSoup(response.text, 'lxml')"
   ]
  },
  {
   "cell_type": "code",
   "execution_count": 57,
   "metadata": {},
   "outputs": [
    {
     "data": {
      "text/plain": [
       "100"
      ]
     },
     "execution_count": 57,
     "metadata": {},
     "output_type": "execute_result"
    }
   ],
   "source": [
    "Bowlers_name = []\n",
    "\n",
    "bowler = soup.find_all('div',class_ = 'rankings-block__banner--name-large')\n",
    "bowler2 = soup.find_all(\"td\",class_='table-body__cell rankings-table__name name')\n",
    "\n",
    "for i in bowler:\n",
    "    Bowlers_name.append(i.text)\n",
    "\n",
    "for i in bats_man2:\n",
    "    Bowlers_name.append(i.text.replace('\\n',''))\n",
    "    \n",
    "len(Bowlers_name)"
   ]
  },
  {
   "cell_type": "code",
   "execution_count": 92,
   "metadata": {},
   "outputs": [
    {
     "data": {
      "text/plain": [
       "100"
      ]
     },
     "execution_count": 92,
     "metadata": {},
     "output_type": "execute_result"
    }
   ],
   "source": [
    "Team = []\n",
    "\n",
    "team = soup.find_all(\"div\",class_='rankings-block__banner--nationality')\n",
    "team2 = soup.find_all(\"span\",class_='table-body__logo-text')\n",
    "\n",
    "for i in team:\n",
    "    Team.append(i.text.replace('\\n',''))\n",
    "\n",
    "for i in team2:\n",
    "    Team.append(i.text)\n",
    "    \n",
    "len(Team)"
   ]
  },
  {
   "cell_type": "code",
   "execution_count": 64,
   "metadata": {},
   "outputs": [
    {
     "data": {
      "text/plain": [
       "100"
      ]
     },
     "execution_count": 64,
     "metadata": {},
     "output_type": "execute_result"
    }
   ],
   "source": [
    "Rating= []\n",
    "\n",
    "rating = soup.find_all('div',class_ = 'rankings-block__banner--rating')\n",
    "rating2 = soup.find_all('td',class_ = 'table-body__cell rating')\n",
    "\n",
    "for i in rating:\n",
    "    Rating.append(i.text)\n",
    "\n",
    "for i in rating2:\n",
    "    Rating.append(i.text)\n",
    "    \n",
    "len(Rating)"
   ]
  },
  {
   "cell_type": "code",
   "execution_count": 93,
   "metadata": {},
   "outputs": [
    {
     "data": {
      "text/html": [
       "<div>\n",
       "<style scoped>\n",
       "    .dataframe tbody tr th:only-of-type {\n",
       "        vertical-align: middle;\n",
       "    }\n",
       "\n",
       "    .dataframe tbody tr th {\n",
       "        vertical-align: top;\n",
       "    }\n",
       "\n",
       "    .dataframe thead th {\n",
       "        text-align: right;\n",
       "    }\n",
       "</style>\n",
       "<table border=\"1\" class=\"dataframe\">\n",
       "  <thead>\n",
       "    <tr style=\"text-align: right;\">\n",
       "      <th></th>\n",
       "      <th>Bowlers Name</th>\n",
       "      <th>Team</th>\n",
       "      <th>Rating</th>\n",
       "    </tr>\n",
       "  </thead>\n",
       "  <tbody>\n",
       "    <tr>\n",
       "      <td>0</td>\n",
       "      <td>Trent Boult</td>\n",
       "      <td>NZ</td>\n",
       "      <td>737</td>\n",
       "    </tr>\n",
       "    <tr>\n",
       "      <td>1</td>\n",
       "      <td>Virat Kohli</td>\n",
       "      <td>AUS</td>\n",
       "      <td>709</td>\n",
       "    </tr>\n",
       "    <tr>\n",
       "      <td>2</td>\n",
       "      <td>Rohit Sharma</td>\n",
       "      <td>AFG</td>\n",
       "      <td>708</td>\n",
       "    </tr>\n",
       "    <tr>\n",
       "      <td>3</td>\n",
       "      <td>Ross Taylor</td>\n",
       "      <td>ENG</td>\n",
       "      <td>700</td>\n",
       "    </tr>\n",
       "    <tr>\n",
       "      <td>4</td>\n",
       "      <td>Aaron Finch</td>\n",
       "      <td>BAN</td>\n",
       "      <td>692</td>\n",
       "    </tr>\n",
       "    <tr>\n",
       "      <td>5</td>\n",
       "      <td>Jonny Bairstow</td>\n",
       "      <td>NZ</td>\n",
       "      <td>691</td>\n",
       "    </tr>\n",
       "    <tr>\n",
       "      <td>6</td>\n",
       "      <td>David Warner</td>\n",
       "      <td>IND</td>\n",
       "      <td>679</td>\n",
       "    </tr>\n",
       "    <tr>\n",
       "      <td>7</td>\n",
       "      <td>Shai Hope</td>\n",
       "      <td>AUS</td>\n",
       "      <td>652</td>\n",
       "    </tr>\n",
       "    <tr>\n",
       "      <td>8</td>\n",
       "      <td>Kane Williamson</td>\n",
       "      <td>BAN</td>\n",
       "      <td>650</td>\n",
       "    </tr>\n",
       "    <tr>\n",
       "      <td>9</td>\n",
       "      <td>Quinton de Kock</td>\n",
       "      <td>SA</td>\n",
       "      <td>646</td>\n",
       "    </tr>\n",
       "    <tr>\n",
       "      <td>10</td>\n",
       "      <td>Fakhar Zaman</td>\n",
       "      <td>BAN</td>\n",
       "      <td>640</td>\n",
       "    </tr>\n",
       "  </tbody>\n",
       "</table>\n",
       "</div>"
      ],
      "text/plain": [
       "       Bowlers Name                    Team Rating\n",
       "0       Trent Boult  NZ                        737\n",
       "1       Virat Kohli                     AUS    709\n",
       "2      Rohit Sharma                     AFG    708\n",
       "3       Ross Taylor                     ENG    700\n",
       "4       Aaron Finch                     BAN    692\n",
       "5    Jonny Bairstow                      NZ    691\n",
       "6      David Warner                     IND    679\n",
       "7         Shai Hope                     AUS    652\n",
       "8   Kane Williamson                     BAN    650\n",
       "9   Quinton de Kock                      SA    646\n",
       "10     Fakhar Zaman                     BAN    640"
      ]
     },
     "execution_count": 93,
     "metadata": {},
     "output_type": "execute_result"
    }
   ],
   "source": [
    "import pandas as pd\n",
    "ODI_Bowlers_in_men = pd.DataFrame({'Bowlers Name':Bowlers_name,\n",
    "                                        'Team':Team,\n",
    "                                        'Rating':Rating})\n",
    "ODI_Bowlers_in_men.head(10)"
   ]
  },
  {
   "cell_type": "markdown",
   "metadata": {},
   "source": [
    "# 6. Write a python program to scrape cricket rankings from ‘www.icc-cricket.com’."
   ]
  },
  {
   "cell_type": "markdown",
   "metadata": {},
   "source": [
    "i) Top 10 ODI teams in women’s cricket along with the records for matches, points and rating."
   ]
  },
  {
   "cell_type": "code",
   "execution_count": 25,
   "metadata": {},
   "outputs": [],
   "source": [
    "url = 'https://www.icc-cricket.com/rankings/womens/team-rankings/odi'\n",
    "response = requests.get(url)\n",
    "soup = BeautifulSoup(response.text, 'lxml')"
   ]
  },
  {
   "cell_type": "code",
   "execution_count": 26,
   "metadata": {},
   "outputs": [
    {
     "data": {
      "text/plain": [
       "10"
      ]
     },
     "execution_count": 26,
     "metadata": {},
     "output_type": "execute_result"
    }
   ],
   "source": [
    "women_team = []\n",
    "\n",
    "women_block = soup.find_all('tr',class_='rankings-block__banner')\n",
    "women_block2 = soup.find_all('td',class_='table-body__cell rankings-table__team')\n",
    "\n",
    "for i in women_block:\n",
    "    for j in i.find_all('td',class_='rankings-block__banner--team-name'):\n",
    "        for n in j.find_all(\"span\",class_='u-hide-phablet'):\n",
    "            women_team.append(n.text)\n",
    "            \n",
    "for i in women_block2:\n",
    "    for j in i.find_all('span',class_='u-hide-phablet'):\n",
    "        women_team.append(j.text)\n",
    "        \n",
    "len(women_team)\n",
    "    "
   ]
  },
  {
   "cell_type": "code",
   "execution_count": 27,
   "metadata": {},
   "outputs": [
    {
     "name": "stdout",
     "output_type": "stream",
     "text": [
      "10\n",
      "10\n"
     ]
    }
   ],
   "source": [
    "match_points = []\n",
    "matches = []\n",
    "points = []\n",
    "\n",
    "for k in soup.find_all('td',class_='rankings-block__banner--matches'):\n",
    "    match_points.append(k.text)\n",
    "for n in soup.find_all('td',class_='rankings-block__banner--points'):\n",
    "    match_points.append(n.text)\n",
    "\n",
    "for s in soup.find_all('td','table-body__cell u-center-text'):\n",
    "        match_points.append(s.text)\n",
    "\n",
    "for i in range(0,len(match_points)):\n",
    "    if i%2:\n",
    "        matches.append(match_points[i])\n",
    "    else:\n",
    "        points.append(match_points[i])\n",
    "print(len(matches))\n",
    "print(len(points))"
   ]
  },
  {
   "cell_type": "code",
   "execution_count": 28,
   "metadata": {},
   "outputs": [
    {
     "data": {
      "text/plain": [
       "10"
      ]
     },
     "execution_count": 28,
     "metadata": {},
     "output_type": "execute_result"
    }
   ],
   "source": [
    "Rating = []\n",
    "rating = soup.find_all('td',class_ = 'rankings-block__banner--rating u-text-right')\n",
    "for i in rating:\n",
    "    Rating.append(i.text.split())\n",
    "rating2 = soup.find_all('td',class_ = 'table-body__cell u-text-right rating')\n",
    "for i in rating2:\n",
    "    Rating.append(i.text)\n",
    "len(Rating)"
   ]
  },
  {
   "cell_type": "code",
   "execution_count": 29,
   "metadata": {},
   "outputs": [
    {
     "data": {
      "text/html": [
       "<div>\n",
       "<style scoped>\n",
       "    .dataframe tbody tr th:only-of-type {\n",
       "        vertical-align: middle;\n",
       "    }\n",
       "\n",
       "    .dataframe tbody tr th {\n",
       "        vertical-align: top;\n",
       "    }\n",
       "\n",
       "    .dataframe thead th {\n",
       "        text-align: right;\n",
       "    }\n",
       "</style>\n",
       "<table border=\"1\" class=\"dataframe\">\n",
       "  <thead>\n",
       "    <tr style=\"text-align: right;\">\n",
       "      <th></th>\n",
       "      <th>ODI_teams</th>\n",
       "      <th>Matches</th>\n",
       "      <th>Points</th>\n",
       "      <th>Rating</th>\n",
       "    </tr>\n",
       "  </thead>\n",
       "  <tbody>\n",
       "    <tr>\n",
       "      <td>0</td>\n",
       "      <td>Australia</td>\n",
       "      <td>3,304</td>\n",
       "      <td>20</td>\n",
       "      <td>[165]</td>\n",
       "    </tr>\n",
       "    <tr>\n",
       "      <td>1</td>\n",
       "      <td>England</td>\n",
       "      <td>2,840</td>\n",
       "      <td>24</td>\n",
       "      <td>118</td>\n",
       "    </tr>\n",
       "    <tr>\n",
       "      <td>2</td>\n",
       "      <td>South Africa</td>\n",
       "      <td>3,390</td>\n",
       "      <td>29</td>\n",
       "      <td>117</td>\n",
       "    </tr>\n",
       "    <tr>\n",
       "      <td>3</td>\n",
       "      <td>India</td>\n",
       "      <td>2,735</td>\n",
       "      <td>25</td>\n",
       "      <td>109</td>\n",
       "    </tr>\n",
       "    <tr>\n",
       "      <td>4</td>\n",
       "      <td>New Zealand</td>\n",
       "      <td>2,324</td>\n",
       "      <td>25</td>\n",
       "      <td>93</td>\n",
       "    </tr>\n",
       "    <tr>\n",
       "      <td>5</td>\n",
       "      <td>West Indies</td>\n",
       "      <td>1,872</td>\n",
       "      <td>22</td>\n",
       "      <td>85</td>\n",
       "    </tr>\n",
       "    <tr>\n",
       "      <td>6</td>\n",
       "      <td>Pakistan</td>\n",
       "      <td>1,496</td>\n",
       "      <td>20</td>\n",
       "      <td>75</td>\n",
       "    </tr>\n",
       "    <tr>\n",
       "      <td>7</td>\n",
       "      <td>Bangladesh</td>\n",
       "      <td>306</td>\n",
       "      <td>5</td>\n",
       "      <td>61</td>\n",
       "    </tr>\n",
       "    <tr>\n",
       "      <td>8</td>\n",
       "      <td>Sri Lanka</td>\n",
       "      <td>519</td>\n",
       "      <td>11</td>\n",
       "      <td>47</td>\n",
       "    </tr>\n",
       "    <tr>\n",
       "      <td>9</td>\n",
       "      <td>Ireland</td>\n",
       "      <td>25</td>\n",
       "      <td>2</td>\n",
       "      <td>13</td>\n",
       "    </tr>\n",
       "  </tbody>\n",
       "</table>\n",
       "</div>"
      ],
      "text/plain": [
       "      ODI_teams Matches Points Rating\n",
       "0     Australia   3,304     20  [165]\n",
       "1       England   2,840     24    118\n",
       "2  South Africa   3,390     29    117\n",
       "3         India   2,735     25    109\n",
       "4   New Zealand   2,324     25     93\n",
       "5   West Indies   1,872     22     85\n",
       "6      Pakistan   1,496     20     75\n",
       "7    Bangladesh     306      5     61\n",
       "8     Sri Lanka     519     11     47\n",
       "9       Ireland      25      2     13"
      ]
     },
     "execution_count": 29,
     "metadata": {},
     "output_type": "execute_result"
    }
   ],
   "source": [
    "import pandas as pd\n",
    "ODI_teams_in_women_cricket = pd.DataFrame({'ODI_teams':women_team,\n",
    "                                        'Matches':matches,\n",
    "                                        'Points':points,\n",
    "                                        'Rating':Rating})\n",
    "ODI_teams_in_women_cricket"
   ]
  },
  {
   "cell_type": "markdown",
   "metadata": {},
   "source": [
    "ii) Top 10 women’s ODI players along with the records of their team and rating."
   ]
  },
  {
   "cell_type": "code",
   "execution_count": 10,
   "metadata": {},
   "outputs": [],
   "source": [
    "url = 'https://www.icc-cricket.com/rankings/womens/player-rankings/odi/batting'\n",
    "response = requests.get(url)\n",
    "soup = BeautifulSoup(response.text, 'lxml')"
   ]
  },
  {
   "cell_type": "code",
   "execution_count": 11,
   "metadata": {},
   "outputs": [
    {
     "data": {
      "text/plain": [
       "100"
      ]
     },
     "execution_count": 11,
     "metadata": {},
     "output_type": "execute_result"
    }
   ],
   "source": [
    "women_odi_player = []\n",
    "\n",
    "player = soup.find_all('div',class_='u-flex-center u-text-left')\n",
    "player2 = soup.find_all(\"td\",class_='table-body__cell rankings-table__name name')\n",
    "\n",
    "for i in player:\n",
    "    for j in i.find_all(\"div\",class_='rankings-block__banner--name-large'):\n",
    "        women_odi_player.append(i.text.replace('\\n',''))\n",
    "        \n",
    "for i in player2:\n",
    "    for j in i.find_all(\"a\",href = True):\n",
    "        if j.text:\n",
    "            women_odi_player.append(j.text)\n",
    "len(women_odi_player)\n",
    "\n"
   ]
  },
  {
   "cell_type": "code",
   "execution_count": 12,
   "metadata": {},
   "outputs": [
    {
     "data": {
      "text/plain": [
       "100"
      ]
     },
     "execution_count": 12,
     "metadata": {},
     "output_type": "execute_result"
    }
   ],
   "source": [
    "Rating = []\n",
    "\n",
    "rating = soup.find_all('div',class_ = 'rankings-block__banner--rating')\n",
    "rating2 = soup.find_all('td',class_='table-body__cell rating')\n",
    "\n",
    "for i in rating:\n",
    "    Rating.append(i.text)\n",
    "    \n",
    "\n",
    "for i in rating2:\n",
    "    Rating.append(i.text)\n",
    "    \n",
    "len(Rating)\n"
   ]
  },
  {
   "cell_type": "code",
   "execution_count": 13,
   "metadata": {},
   "outputs": [
    {
     "data": {
      "text/plain": [
       "100"
      ]
     },
     "execution_count": 13,
     "metadata": {},
     "output_type": "execute_result"
    }
   ],
   "source": [
    "Team = []\n",
    "\n",
    "team = soup.find_all('div',class_='rankings-block__banner--nationality')\n",
    "team2 = soup.find_all('span',class_='table-body__logo-text')\n",
    "for i in team:\n",
    "    Team.append(i.text.strip())\n",
    "for z in team2:\n",
    "    Team.append(z.text)\n",
    "    \n",
    "len(Team)\n"
   ]
  },
  {
   "cell_type": "code",
   "execution_count": 15,
   "metadata": {},
   "outputs": [
    {
     "data": {
      "text/html": [
       "<div>\n",
       "<style scoped>\n",
       "    .dataframe tbody tr th:only-of-type {\n",
       "        vertical-align: middle;\n",
       "    }\n",
       "\n",
       "    .dataframe tbody tr th {\n",
       "        vertical-align: top;\n",
       "    }\n",
       "\n",
       "    .dataframe thead th {\n",
       "        text-align: right;\n",
       "    }\n",
       "</style>\n",
       "<table border=\"1\" class=\"dataframe\">\n",
       "  <thead>\n",
       "    <tr style=\"text-align: right;\">\n",
       "      <th></th>\n",
       "      <th>Players</th>\n",
       "      <th>Team</th>\n",
       "      <th>Rating</th>\n",
       "    </tr>\n",
       "  </thead>\n",
       "  <tbody>\n",
       "    <tr>\n",
       "      <td>0</td>\n",
       "      <td>Mithali Raj</td>\n",
       "      <td>IND</td>\n",
       "      <td>762</td>\n",
       "    </tr>\n",
       "    <tr>\n",
       "      <td>1</td>\n",
       "      <td>Lizelle Lee</td>\n",
       "      <td>SA</td>\n",
       "      <td>761</td>\n",
       "    </tr>\n",
       "    <tr>\n",
       "      <td>2</td>\n",
       "      <td>Alyssa Healy</td>\n",
       "      <td>AUS</td>\n",
       "      <td>756</td>\n",
       "    </tr>\n",
       "    <tr>\n",
       "      <td>3</td>\n",
       "      <td>Tammy Beaumont</td>\n",
       "      <td>ENG</td>\n",
       "      <td>740</td>\n",
       "    </tr>\n",
       "    <tr>\n",
       "      <td>4</td>\n",
       "      <td>Amy Satterthwaite</td>\n",
       "      <td>NZ</td>\n",
       "      <td>726</td>\n",
       "    </tr>\n",
       "    <tr>\n",
       "      <td>5</td>\n",
       "      <td>Meg Lanning</td>\n",
       "      <td>AUS</td>\n",
       "      <td>723</td>\n",
       "    </tr>\n",
       "    <tr>\n",
       "      <td>6</td>\n",
       "      <td>Smriti Mandhana</td>\n",
       "      <td>IND</td>\n",
       "      <td>701</td>\n",
       "    </tr>\n",
       "    <tr>\n",
       "      <td>7</td>\n",
       "      <td>Ellyse Perry</td>\n",
       "      <td>AUS</td>\n",
       "      <td>679</td>\n",
       "    </tr>\n",
       "    <tr>\n",
       "      <td>8</td>\n",
       "      <td>Laura Wolvaardt</td>\n",
       "      <td>SA</td>\n",
       "      <td>672</td>\n",
       "    </tr>\n",
       "    <tr>\n",
       "      <td>9</td>\n",
       "      <td>Natalie Sciver</td>\n",
       "      <td>ENG</td>\n",
       "      <td>672</td>\n",
       "    </tr>\n",
       "  </tbody>\n",
       "</table>\n",
       "</div>"
      ],
      "text/plain": [
       "             Players Team Rating\n",
       "0        Mithali Raj  IND    762\n",
       "1        Lizelle Lee   SA    761\n",
       "2       Alyssa Healy  AUS    756\n",
       "3     Tammy Beaumont  ENG    740\n",
       "4  Amy Satterthwaite   NZ    726\n",
       "5        Meg Lanning  AUS    723\n",
       "6    Smriti Mandhana  IND    701\n",
       "7       Ellyse Perry  AUS    679\n",
       "8    Laura Wolvaardt   SA    672\n",
       "9     Natalie Sciver  ENG    672"
      ]
     },
     "execution_count": 15,
     "metadata": {},
     "output_type": "execute_result"
    }
   ],
   "source": [
    "import pandas as pd\n",
    "\n",
    "women_odi_players = pd.DataFrame({'Players':women_odi_player,\n",
    "                                        'Team':Team,\n",
    "                                        'Rating':Rating})\n",
    "women_odi_players.head(10)"
   ]
  },
  {
   "cell_type": "markdown",
   "metadata": {},
   "source": [
    "iii) Top 10 women’s ODI all-rounder along with the records of their team and rating."
   ]
  },
  {
   "cell_type": "code",
   "execution_count": 64,
   "metadata": {},
   "outputs": [],
   "source": [
    "url = 'https://www.icc-cricket.com/rankings/womens/player-rankings/odi/all-rounder'\n",
    "response = requests.get(url)\n",
    "soup = BeautifulSoup(response.text, 'lxml')"
   ]
  },
  {
   "cell_type": "code",
   "execution_count": 65,
   "metadata": {},
   "outputs": [
    {
     "data": {
      "text/plain": [
       "20"
      ]
     },
     "execution_count": 65,
     "metadata": {},
     "output_type": "execute_result"
    }
   ],
   "source": [
    "women_odi_Ollrounder = []\n",
    "\n",
    "player = soup.find_all('div',class_='rankings-block__banner--name-large')\n",
    "player2 = soup.find_all(\"td\",class_='table-body__cell rankings-table__name name')\n",
    "\n",
    "for i in player:\n",
    "    women_odi_Ollrounder.append(i.text)\n",
    "        \n",
    "for i in player2:\n",
    "    for j in i.find_all(\"a\",href = True):\n",
    "        if j.text:\n",
    "            women_odi_Ollrounder.append(j.text)\n",
    "len(women_odi_Ollrounder)"
   ]
  },
  {
   "cell_type": "code",
   "execution_count": 66,
   "metadata": {},
   "outputs": [
    {
     "data": {
      "text/plain": [
       "20"
      ]
     },
     "execution_count": 66,
     "metadata": {},
     "output_type": "execute_result"
    }
   ],
   "source": [
    "Team = []\n",
    "\n",
    "team = soup.find_all('div',class_='rankings-block__banner--nationality')\n",
    "team2 = soup.find_all('span',class_='table-body__logo-text')\n",
    "for i in team:\n",
    "    Team.append(i.text.strip())\n",
    "for z in team2:\n",
    "    Team.append(z.text)\n",
    "    \n",
    "len(Team)"
   ]
  },
  {
   "cell_type": "code",
   "execution_count": 67,
   "metadata": {},
   "outputs": [
    {
     "data": {
      "text/plain": [
       "20"
      ]
     },
     "execution_count": 67,
     "metadata": {},
     "output_type": "execute_result"
    }
   ],
   "source": [
    "Rating = []\n",
    "\n",
    "rating = soup.find_all('div',class_ = 'rankings-block__banner--rating')\n",
    "rating2 = soup.find_all('td',class_='table-body__cell rating')\n",
    "\n",
    "for i in rating:\n",
    "    Rating.append(i.text)\n",
    "    \n",
    "for i in rating2:\n",
    "    Rating.append(i.text)\n",
    "    \n",
    "len(Rating)"
   ]
  },
  {
   "cell_type": "code",
   "execution_count": 69,
   "metadata": {},
   "outputs": [
    {
     "data": {
      "text/html": [
       "<div>\n",
       "<style scoped>\n",
       "    .dataframe tbody tr th:only-of-type {\n",
       "        vertical-align: middle;\n",
       "    }\n",
       "\n",
       "    .dataframe tbody tr th {\n",
       "        vertical-align: top;\n",
       "    }\n",
       "\n",
       "    .dataframe thead th {\n",
       "        text-align: right;\n",
       "    }\n",
       "</style>\n",
       "<table border=\"1\" class=\"dataframe\">\n",
       "  <thead>\n",
       "    <tr style=\"text-align: right;\">\n",
       "      <th></th>\n",
       "      <th>Players</th>\n",
       "      <th>Team</th>\n",
       "      <th>Rating</th>\n",
       "    </tr>\n",
       "  </thead>\n",
       "  <tbody>\n",
       "    <tr>\n",
       "      <td>0</td>\n",
       "      <td>Ellyse Perry</td>\n",
       "      <td>AUS</td>\n",
       "      <td>418</td>\n",
       "    </tr>\n",
       "    <tr>\n",
       "      <td>1</td>\n",
       "      <td>Marizanne Kapp</td>\n",
       "      <td>SA</td>\n",
       "      <td>384</td>\n",
       "    </tr>\n",
       "    <tr>\n",
       "      <td>2</td>\n",
       "      <td>Natalie Sciver</td>\n",
       "      <td>ENG</td>\n",
       "      <td>380</td>\n",
       "    </tr>\n",
       "    <tr>\n",
       "      <td>3</td>\n",
       "      <td>Deepti Sharma</td>\n",
       "      <td>IND</td>\n",
       "      <td>331</td>\n",
       "    </tr>\n",
       "    <tr>\n",
       "      <td>4</td>\n",
       "      <td>Stafanie Taylor</td>\n",
       "      <td>WI</td>\n",
       "      <td>322</td>\n",
       "    </tr>\n",
       "    <tr>\n",
       "      <td>5</td>\n",
       "      <td>Jess Jonassen</td>\n",
       "      <td>AUS</td>\n",
       "      <td>307</td>\n",
       "    </tr>\n",
       "    <tr>\n",
       "      <td>6</td>\n",
       "      <td>Dane van Niekerk</td>\n",
       "      <td>SA</td>\n",
       "      <td>274</td>\n",
       "    </tr>\n",
       "    <tr>\n",
       "      <td>7</td>\n",
       "      <td>Sophie Devine</td>\n",
       "      <td>NZ</td>\n",
       "      <td>254</td>\n",
       "    </tr>\n",
       "    <tr>\n",
       "      <td>8</td>\n",
       "      <td>Katherine Brunt</td>\n",
       "      <td>ENG</td>\n",
       "      <td>254</td>\n",
       "    </tr>\n",
       "    <tr>\n",
       "      <td>9</td>\n",
       "      <td>Ashleigh Gardner</td>\n",
       "      <td>AUS</td>\n",
       "      <td>252</td>\n",
       "    </tr>\n",
       "  </tbody>\n",
       "</table>\n",
       "</div>"
      ],
      "text/plain": [
       "            Players Team Rating\n",
       "0      Ellyse Perry  AUS    418\n",
       "1    Marizanne Kapp   SA    384\n",
       "2    Natalie Sciver  ENG    380\n",
       "3     Deepti Sharma  IND    331\n",
       "4   Stafanie Taylor   WI    322\n",
       "5     Jess Jonassen  AUS    307\n",
       "6  Dane van Niekerk   SA    274\n",
       "7     Sophie Devine   NZ    254\n",
       "8   Katherine Brunt  ENG    254\n",
       "9  Ashleigh Gardner  AUS    252"
      ]
     },
     "execution_count": 69,
     "metadata": {},
     "output_type": "execute_result"
    }
   ],
   "source": [
    "import pandas as pd\n",
    "\n",
    "womens_ODI_Allrounder = pd.DataFrame({'Players':women_odi_Ollrounder,\n",
    "                                        'Team':Team,\n",
    "                                        'Rating':Rating})\n",
    "womens_ODI_Allrounder.head(10)"
   ]
  },
  {
   "cell_type": "markdown",
   "metadata": {},
   "source": [
    "# 8. Write a python program to extract information about the local weather from the National Weather Service website of USA, https://www.weather.gov/ for the city, San Francisco. You need to extract data about 7 day extended forecast display for the city. The data should include period, short description, temperature and description."
   ]
  },
  {
   "cell_type": "code",
   "execution_count": 3,
   "metadata": {},
   "outputs": [],
   "source": [
    "from bs4 import BeautifulSoup\n",
    "import requests"
   ]
  },
  {
   "cell_type": "code",
   "execution_count": 4,
   "metadata": {},
   "outputs": [
    {
     "name": "stdout",
     "output_type": "stream",
     "text": [
      "<Response [200]>\n"
     ]
    }
   ],
   "source": [
    "url = 'https://forecast.weather.gov/MapClick.php?textField1=37.78&textField2=-122.42#.YVL34TFBxPa'\n",
    "request = requests.get(url)\n",
    "print(request)\n",
    "page = request.content\n",
    "soup = BeautifulSoup(page)\n",
    "prettify = soup.prettify()"
   ]
  },
  {
   "cell_type": "code",
   "execution_count": 5,
   "metadata": {},
   "outputs": [],
   "source": [
    "Period = []\n",
    "short_description = []\n",
    "tempurature = []\n",
    "description = []\n",
    "low = []\n",
    "high = []"
   ]
  },
  {
   "cell_type": "code",
   "execution_count": 6,
   "metadata": {},
   "outputs": [],
   "source": [
    "period = soup.find_all('p',class_='period-name')\n",
    "for i in period:\n",
    "    Period.append(i.text)\n",
    "    \n",
    "short_d = soup.find_all('p',class_='short-desc')\n",
    "for i in short_d:\n",
    "    short_description.append(i.text)\n",
    "\n",
    "temp_low = soup.find_all('p',class_='temp temp-low')\n",
    "temp_high = soup.find_all('p',class_='temp temp-high')\n",
    "for i in temp_low:\n",
    "    low.append(i.text)\n",
    "for z in temp_high:\n",
    "    high.append(z.text)\n",
    "    \n",
    "temperature = [None]*(len(low)+len(high))\n",
    "temperature[::2] = high\n",
    "temperature[1::2] = low    \n"
   ]
  },
  {
   "cell_type": "code",
   "execution_count": 7,
   "metadata": {},
   "outputs": [
    {
     "name": "stdout",
     "output_type": "stream",
     "text": [
      "9\n",
      "9\n",
      "9\n"
     ]
    }
   ],
   "source": [
    "print(len(Period))\n",
    "print(len(short_description))\n",
    "print(len(temperature)) "
   ]
  },
  {
   "cell_type": "code",
   "execution_count": 8,
   "metadata": {},
   "outputs": [],
   "source": [
    "detail= []\n",
    "desc_ = soup.find_all('div',class_='col-sm-10 forecast-text')\n",
    "for i in desc_:\n",
    "    detail.append(i.text)"
   ]
  },
  {
   "cell_type": "code",
   "execution_count": 9,
   "metadata": {},
   "outputs": [
    {
     "name": "stdout",
     "output_type": "stream",
     "text": [
      "13\n"
     ]
    }
   ],
   "source": [
    "print(len(detail))"
   ]
  },
  {
   "cell_type": "code",
   "execution_count": 10,
   "metadata": {},
   "outputs": [],
   "source": [
    "import pandas as pd\n",
    "df = pd.DataFrame(detail)\n",
    "n = 4\n",
    "df.drop(df.tail(n).index,\n",
    "        inplace = True)"
   ]
  },
  {
   "cell_type": "code",
   "execution_count": 11,
   "metadata": {},
   "outputs": [
    {
     "name": "stdout",
     "output_type": "stream",
     "text": [
      "9\n"
     ]
    }
   ],
   "source": [
    "print(len(df))"
   ]
  },
  {
   "cell_type": "code",
   "execution_count": 12,
   "metadata": {},
   "outputs": [],
   "source": [
    "description = df.values.tolist()"
   ]
  },
  {
   "cell_type": "code",
   "execution_count": 15,
   "metadata": {},
   "outputs": [],
   "source": [
    "sanfrancisco_weather = pd.DataFrame({'Period':Period,\n",
    "                    'Short Description':short_description,\n",
    "                    'Temperature':temperature,\n",
    "                   'Description':description})"
   ]
  },
  {
   "cell_type": "code",
   "execution_count": 16,
   "metadata": {},
   "outputs": [
    {
     "data": {
      "text/html": [
       "<div>\n",
       "<style scoped>\n",
       "    .dataframe tbody tr th:only-of-type {\n",
       "        vertical-align: middle;\n",
       "    }\n",
       "\n",
       "    .dataframe tbody tr th {\n",
       "        vertical-align: top;\n",
       "    }\n",
       "\n",
       "    .dataframe thead th {\n",
       "        text-align: right;\n",
       "    }\n",
       "</style>\n",
       "<table border=\"1\" class=\"dataframe\">\n",
       "  <thead>\n",
       "    <tr style=\"text-align: right;\">\n",
       "      <th></th>\n",
       "      <th>Period</th>\n",
       "      <th>Short Description</th>\n",
       "      <th>Temperature</th>\n",
       "      <th>Description</th>\n",
       "    </tr>\n",
       "  </thead>\n",
       "  <tbody>\n",
       "    <tr>\n",
       "      <td>0</td>\n",
       "      <td>Today</td>\n",
       "      <td>Mostly Sunnythen Sunnyand Breezy</td>\n",
       "      <td>High: 69 °F</td>\n",
       "      <td>[Partly sunny, then gradually becoming sunny, ...</td>\n",
       "    </tr>\n",
       "    <tr>\n",
       "      <td>1</td>\n",
       "      <td>Tonight</td>\n",
       "      <td>Mostly Clear</td>\n",
       "      <td>Low: 53 °F</td>\n",
       "      <td>[Mostly clear, with a low around 53. West nort...</td>\n",
       "    </tr>\n",
       "    <tr>\n",
       "      <td>2</td>\n",
       "      <td>Wednesday</td>\n",
       "      <td>Mostly Sunny</td>\n",
       "      <td>High: 68 °F</td>\n",
       "      <td>[Mostly sunny, with a high near 68. Light west...</td>\n",
       "    </tr>\n",
       "    <tr>\n",
       "      <td>3</td>\n",
       "      <td>WednesdayNight</td>\n",
       "      <td>Mostly Clear</td>\n",
       "      <td>Low: 54 °F</td>\n",
       "      <td>[Mostly clear, with a low around 54. West wind...</td>\n",
       "    </tr>\n",
       "    <tr>\n",
       "      <td>4</td>\n",
       "      <td>Thursday</td>\n",
       "      <td>Sunny</td>\n",
       "      <td>High: 74 °F</td>\n",
       "      <td>[Sunny, with a high near 74. Light and variabl...</td>\n",
       "    </tr>\n",
       "    <tr>\n",
       "      <td>5</td>\n",
       "      <td>ThursdayNight</td>\n",
       "      <td>Mostly Clear</td>\n",
       "      <td>Low: 55 °F</td>\n",
       "      <td>[Mostly clear, with a low around 55.]</td>\n",
       "    </tr>\n",
       "    <tr>\n",
       "      <td>6</td>\n",
       "      <td>Friday</td>\n",
       "      <td>Sunny</td>\n",
       "      <td>High: 76 °F</td>\n",
       "      <td>[Sunny, with a high near 76.]</td>\n",
       "    </tr>\n",
       "    <tr>\n",
       "      <td>7</td>\n",
       "      <td>FridayNight</td>\n",
       "      <td>Mostly Clear</td>\n",
       "      <td>Low: 56 °F</td>\n",
       "      <td>[Mostly clear, with a low around 56.]</td>\n",
       "    </tr>\n",
       "    <tr>\n",
       "      <td>8</td>\n",
       "      <td>Saturday</td>\n",
       "      <td>Sunny</td>\n",
       "      <td>High: 74 °F</td>\n",
       "      <td>[Sunny, with a high near 74.]</td>\n",
       "    </tr>\n",
       "  </tbody>\n",
       "</table>\n",
       "</div>"
      ],
      "text/plain": [
       "           Period                 Short Description  Temperature  \\\n",
       "0           Today  Mostly Sunnythen Sunnyand Breezy  High: 69 °F   \n",
       "1         Tonight                      Mostly Clear   Low: 53 °F   \n",
       "2       Wednesday                      Mostly Sunny  High: 68 °F   \n",
       "3  WednesdayNight                      Mostly Clear   Low: 54 °F   \n",
       "4        Thursday                             Sunny  High: 74 °F   \n",
       "5   ThursdayNight                      Mostly Clear   Low: 55 °F   \n",
       "6          Friday                             Sunny  High: 76 °F   \n",
       "7     FridayNight                      Mostly Clear   Low: 56 °F   \n",
       "8        Saturday                             Sunny  High: 74 °F   \n",
       "\n",
       "                                         Description  \n",
       "0  [Partly sunny, then gradually becoming sunny, ...  \n",
       "1  [Mostly clear, with a low around 53. West nort...  \n",
       "2  [Mostly sunny, with a high near 68. Light west...  \n",
       "3  [Mostly clear, with a low around 54. West wind...  \n",
       "4  [Sunny, with a high near 74. Light and variabl...  \n",
       "5              [Mostly clear, with a low around 55.]  \n",
       "6                      [Sunny, with a high near 76.]  \n",
       "7              [Mostly clear, with a low around 56.]  \n",
       "8                      [Sunny, with a high near 74.]  "
      ]
     },
     "execution_count": 16,
     "metadata": {},
     "output_type": "execute_result"
    }
   ],
   "source": [
    "sanfrancisco_weather"
   ]
  },
  {
   "cell_type": "markdown",
   "metadata": {},
   "source": [
    "# 7. Write a python program to scrape details of all the mobile phones under Rs. 20,000 listed on Amazon.in. The scraped data should include Product Name, Price, Image URL and Average Rating."
   ]
  },
  {
   "cell_type": "code",
   "execution_count": 1,
   "metadata": {},
   "outputs": [],
   "source": [
    "from bs4 import BeautifulSoup\n",
    "import requests"
   ]
  },
  {
   "cell_type": "code",
   "execution_count": 2,
   "metadata": {},
   "outputs": [
    {
     "name": "stdout",
     "output_type": "stream",
     "text": [
      "<Response [200]>\n"
     ]
    }
   ],
   "source": [
    "url = 'https://www.amazon.in/s?bbn=1389401031&rh=n%3A1389401031%2Cp_36%3A1318506031&dc&qid=1632980924&rnid=1318502031&ref=lp_1389401031_nr_p_36_3'\n",
    "request = requests.get(url)\n",
    "print(request)\n",
    "page = request.content\n",
    "soup = BeautifulSoup(page)\n",
    "prettify = soup.prettify()"
   ]
  },
  {
   "cell_type": "code",
   "execution_count": 3,
   "metadata": {},
   "outputs": [],
   "source": [
    "product_name = []\n",
    "Price =[]\n",
    "image_url = []\n",
    "avg_rating =[]\n",
    "\n",
    "pages = list(range(1,225))\n",
    "for page in pages:\n",
    "    response = requests.get('https://www.amazon.in/s?i=electronics&bbn=1389401031&rh=n%3A1389401031%2Cp_36%3A1318506031&dc&page={}&qid=1632812239&rnid=1318502031&ref=sr_pg_{}'.format(pages,pages)).text\n",
    "    data = BeautifulSoup(response,'lxml')\n",
    "    for i in soup.find_all('span',class_='a-size-base-plus a-color-base a-text-normal'):\n",
    "        product_name.append(i.text)\n",
    "    for i in soup.find_all('span',class_='a-price-whole'):\n",
    "        Price.append(i.text)\n",
    "    url = soup.find_all('div',class_='a-section aok-relative s-image-square-aspect')\n",
    "    for div in url:\n",
    "        image_url.append(div.find('img').attrs['src'])\n",
    "    rating = soup.find_all('span',class_='a-icon-alt')\n",
    "    for i in rating:\n",
    "        avg_rating.append(i.text)\n",
    "    n = 4\n",
    "    del avg_rating[-n:]\n",
    "    \n"
   ]
  },
  {
   "cell_type": "code",
   "execution_count": 5,
   "metadata": {},
   "outputs": [],
   "source": [
    "import pandas as pd\n",
    "Amazon_data = pd.DataFrame({'Product Name':product_name,\n",
    "                    'Price':Price,\n",
    "                    'Image Url':image_url,\n",
    "                   'Average Rating':avg_rating})"
   ]
  },
  {
   "cell_type": "code",
   "execution_count": 6,
   "metadata": {},
   "outputs": [
    {
     "data": {
      "text/html": [
       "<div>\n",
       "<style scoped>\n",
       "    .dataframe tbody tr th:only-of-type {\n",
       "        vertical-align: middle;\n",
       "    }\n",
       "\n",
       "    .dataframe tbody tr th {\n",
       "        vertical-align: top;\n",
       "    }\n",
       "\n",
       "    .dataframe thead th {\n",
       "        text-align: right;\n",
       "    }\n",
       "</style>\n",
       "<table border=\"1\" class=\"dataframe\">\n",
       "  <thead>\n",
       "    <tr style=\"text-align: right;\">\n",
       "      <th></th>\n",
       "      <th>Product Name</th>\n",
       "      <th>Price</th>\n",
       "      <th>Image Url</th>\n",
       "      <th>Average Rating</th>\n",
       "    </tr>\n",
       "  </thead>\n",
       "  <tbody>\n",
       "    <tr>\n",
       "      <td>0</td>\n",
       "      <td>Redmi Note 10 (Aqua Green, 4GB RAM, 64GB Stora...</td>\n",
       "      <td>13,999</td>\n",
       "      <td>https://m.media-amazon.com/images/I/810GQ7CWdD...</td>\n",
       "      <td>4.2 out of 5 stars</td>\n",
       "    </tr>\n",
       "    <tr>\n",
       "      <td>1</td>\n",
       "      <td>Redmi 9 Power (Blazing Blue, 4GB RAM, 64GB Sto...</td>\n",
       "      <td>11,499</td>\n",
       "      <td>https://m.media-amazon.com/images/I/71hEzQGO5q...</td>\n",
       "      <td>4.2 out of 5 stars</td>\n",
       "    </tr>\n",
       "    <tr>\n",
       "      <td>2</td>\n",
       "      <td>Redmi Note 10 Pro Max (Dark Night, 6GB RAM, 12...</td>\n",
       "      <td>19,999</td>\n",
       "      <td>https://m.media-amazon.com/images/I/81Vpy0XrvF...</td>\n",
       "      <td>4.1 out of 5 stars</td>\n",
       "    </tr>\n",
       "    <tr>\n",
       "      <td>3</td>\n",
       "      <td>Redmi Note 10S (Deep Sea Blue, 6GB RAM, 64GB S...</td>\n",
       "      <td>14,999</td>\n",
       "      <td>https://m.media-amazon.com/images/I/81B0HJigO-...</td>\n",
       "      <td>4.1 out of 5 stars</td>\n",
       "    </tr>\n",
       "    <tr>\n",
       "      <td>4</td>\n",
       "      <td>Redmi 9 Power (Mighty Black 4GB RAM 64GB Stora...</td>\n",
       "      <td>11,499</td>\n",
       "      <td>https://m.media-amazon.com/images/I/71hEzQGO5q...</td>\n",
       "      <td>4.2 out of 5 stars</td>\n",
       "    </tr>\n",
       "    <tr>\n",
       "      <td>...</td>\n",
       "      <td>...</td>\n",
       "      <td>...</td>\n",
       "      <td>...</td>\n",
       "      <td>...</td>\n",
       "    </tr>\n",
       "    <tr>\n",
       "      <td>5371</td>\n",
       "      <td>Redmi Note 10S (Frost White, 6GB RAM, 128GB) -...</td>\n",
       "      <td>16,499</td>\n",
       "      <td>https://m.media-amazon.com/images/I/81SJHWh-df...</td>\n",
       "      <td>4.1 out of 5 stars</td>\n",
       "    </tr>\n",
       "    <tr>\n",
       "      <td>5372</td>\n",
       "      <td>Redmi 9 Power (Electric Green, 6GB RAM, 128GB ...</td>\n",
       "      <td>13,499</td>\n",
       "      <td>https://m.media-amazon.com/images/I/61EIaUqatT...</td>\n",
       "      <td>4.2 out of 5 stars</td>\n",
       "    </tr>\n",
       "    <tr>\n",
       "      <td>5373</td>\n",
       "      <td>Redmi Note 10S (Cosmic Purple, 6GB RAM, 64 GB ...</td>\n",
       "      <td>14,999</td>\n",
       "      <td>https://m.media-amazon.com/images/I/81sZamLSPW...</td>\n",
       "      <td>4.1 out of 5 stars</td>\n",
       "    </tr>\n",
       "    <tr>\n",
       "      <td>5374</td>\n",
       "      <td>Redmi Note 10 Pro (Vintage Bronze, 6GB RAM, 12...</td>\n",
       "      <td>17,999</td>\n",
       "      <td>https://m.media-amazon.com/images/I/81aQWPoGdO...</td>\n",
       "      <td>4.2 out of 5 stars</td>\n",
       "    </tr>\n",
       "    <tr>\n",
       "      <td>5375</td>\n",
       "      <td>OPPO A31 (Mystery Black, 6GB RAM, 128GB Storag...</td>\n",
       "      <td>12,990</td>\n",
       "      <td>https://m.media-amazon.com/images/I/71KCwNV6Mu...</td>\n",
       "      <td>4.2 out of 5 stars</td>\n",
       "    </tr>\n",
       "  </tbody>\n",
       "</table>\n",
       "<p>5376 rows × 4 columns</p>\n",
       "</div>"
      ],
      "text/plain": [
       "                                           Product Name   Price  \\\n",
       "0     Redmi Note 10 (Aqua Green, 4GB RAM, 64GB Stora...  13,999   \n",
       "1     Redmi 9 Power (Blazing Blue, 4GB RAM, 64GB Sto...  11,499   \n",
       "2     Redmi Note 10 Pro Max (Dark Night, 6GB RAM, 12...  19,999   \n",
       "3     Redmi Note 10S (Deep Sea Blue, 6GB RAM, 64GB S...  14,999   \n",
       "4     Redmi 9 Power (Mighty Black 4GB RAM 64GB Stora...  11,499   \n",
       "...                                                 ...     ...   \n",
       "5371  Redmi Note 10S (Frost White, 6GB RAM, 128GB) -...  16,499   \n",
       "5372  Redmi 9 Power (Electric Green, 6GB RAM, 128GB ...  13,499   \n",
       "5373  Redmi Note 10S (Cosmic Purple, 6GB RAM, 64 GB ...  14,999   \n",
       "5374  Redmi Note 10 Pro (Vintage Bronze, 6GB RAM, 12...  17,999   \n",
       "5375  OPPO A31 (Mystery Black, 6GB RAM, 128GB Storag...  12,990   \n",
       "\n",
       "                                              Image Url      Average Rating  \n",
       "0     https://m.media-amazon.com/images/I/810GQ7CWdD...  4.2 out of 5 stars  \n",
       "1     https://m.media-amazon.com/images/I/71hEzQGO5q...  4.2 out of 5 stars  \n",
       "2     https://m.media-amazon.com/images/I/81Vpy0XrvF...  4.1 out of 5 stars  \n",
       "3     https://m.media-amazon.com/images/I/81B0HJigO-...  4.1 out of 5 stars  \n",
       "4     https://m.media-amazon.com/images/I/71hEzQGO5q...  4.2 out of 5 stars  \n",
       "...                                                 ...                 ...  \n",
       "5371  https://m.media-amazon.com/images/I/81SJHWh-df...  4.1 out of 5 stars  \n",
       "5372  https://m.media-amazon.com/images/I/61EIaUqatT...  4.2 out of 5 stars  \n",
       "5373  https://m.media-amazon.com/images/I/81sZamLSPW...  4.1 out of 5 stars  \n",
       "5374  https://m.media-amazon.com/images/I/81aQWPoGdO...  4.2 out of 5 stars  \n",
       "5375  https://m.media-amazon.com/images/I/71KCwNV6Mu...  4.2 out of 5 stars  \n",
       "\n",
       "[5376 rows x 4 columns]"
      ]
     },
     "execution_count": 6,
     "metadata": {},
     "output_type": "execute_result"
    }
   ],
   "source": [
    "Amazon_data"
   ]
  },
  {
   "cell_type": "markdown",
   "metadata": {},
   "source": [
    "# 9. Write a python program to scrape fresher job listings from ‘https://internshala.com/’. It should include job title, company name, CTC, and apply date."
   ]
  },
  {
   "cell_type": "code",
   "execution_count": 1,
   "metadata": {},
   "outputs": [],
   "source": [
    "from bs4 import BeautifulSoup\n",
    "import requests"
   ]
  },
  {
   "cell_type": "code",
   "execution_count": 2,
   "metadata": {},
   "outputs": [
    {
     "name": "stdout",
     "output_type": "stream",
     "text": [
      "<Response [200]>\n"
     ]
    }
   ],
   "source": [
    "url = 'https://internshala.com/fresher-jobs'\n",
    "request = requests.get(url)\n",
    "print(request)\n",
    "page = request.content\n",
    "soup = BeautifulSoup(page)\n",
    "prettify = soup.prettify()"
   ]
  },
  {
   "cell_type": "code",
   "execution_count": 3,
   "metadata": {},
   "outputs": [
    {
     "name": "stdout",
     "output_type": "stream",
     "text": [
      "320\n",
      "320\n",
      "320\n",
      "320\n"
     ]
    }
   ],
   "source": [
    "job_title = []\n",
    "company_name = []\n",
    "container = []\n",
    "space = []\n",
    "ctc = []\n",
    "apply_date = []\n",
    "space = []\n",
    "ctc_date = []\n",
    "\n",
    "pages = list(range(1,9))\n",
    "for page in pages:\n",
    "    response = requests.get('https://internshala.com/fresher-jobs/page-{}'.format(pages)).text\n",
    "    data2 = BeautifulSoup(response,'lxml')\n",
    "    jobs = soup.find_all('div',class_='heading_4_5 profile')\n",
    "    for i in jobs:\n",
    "        job_title.append(i.text.replace('\\n',''))\n",
    "\n",
    "    company = soup.find_all('a',class_='link_display_like_text')\n",
    "    for i in company:\n",
    "        company_name.append(i.text.strip())\n",
    "        \n",
    "    cost = soup.find_all('div',class_='item_body')\n",
    "    for i in cost:\n",
    "        z = i.text.replace(\"\\nStarts\\xa0Immediately\\n \",'')\n",
    "        k = z.replace('\\n','')\n",
    "        n = k.strip()\n",
    "        container.append(n)\n",
    "        \n",
    "for i in range(0,len(container)):\n",
    "    if i%3:\n",
    "        ctc_date.append(container[i])\n",
    "    else:\n",
    "        space.append(container[i])\n",
    "            \n",
    "for v in range(0,len(ctc_date)):\n",
    "    if v%2:\n",
    "        apply_date.append(ctc_date[v])\n",
    "    else:\n",
    "        ctc.append(ctc_date[v])\n",
    "        \n",
    "print(len(company_name))\n",
    "print(len(job_title))\n",
    "print(len(ctc))\n",
    "print(len(apply_date))\n"
   ]
  },
  {
   "cell_type": "code",
   "execution_count": 5,
   "metadata": {},
   "outputs": [
    {
     "data": {
      "text/html": [
       "<div>\n",
       "<style scoped>\n",
       "    .dataframe tbody tr th:only-of-type {\n",
       "        vertical-align: middle;\n",
       "    }\n",
       "\n",
       "    .dataframe tbody tr th {\n",
       "        vertical-align: top;\n",
       "    }\n",
       "\n",
       "    .dataframe thead th {\n",
       "        text-align: right;\n",
       "    }\n",
       "</style>\n",
       "<table border=\"1\" class=\"dataframe\">\n",
       "  <thead>\n",
       "    <tr style=\"text-align: right;\">\n",
       "      <th></th>\n",
       "      <th>Job Title</th>\n",
       "      <th>Company Name</th>\n",
       "      <th>CTC</th>\n",
       "      <th>Apply Date</th>\n",
       "    </tr>\n",
       "  </thead>\n",
       "  <tbody>\n",
       "    <tr>\n",
       "      <td>0</td>\n",
       "      <td>Lead Generation Associate</td>\n",
       "      <td>CommVersion Solutions</td>\n",
       "      <td>3 - 6 LPA</td>\n",
       "      <td>27 Oct' 21</td>\n",
       "    </tr>\n",
       "    <tr>\n",
       "      <td>1</td>\n",
       "      <td>Business Development Associate</td>\n",
       "      <td>Web Assets</td>\n",
       "      <td>3 - 8 LPA</td>\n",
       "      <td>27 Oct' 21</td>\n",
       "    </tr>\n",
       "    <tr>\n",
       "      <td>2</td>\n",
       "      <td>Accounts And MIS Manager</td>\n",
       "      <td>Little Olive</td>\n",
       "      <td>3 - 3.2 LPA</td>\n",
       "      <td>27 Oct' 21</td>\n",
       "    </tr>\n",
       "    <tr>\n",
       "      <td>3</td>\n",
       "      <td>Junior Search Engine Optimization (SEO) Execut...</td>\n",
       "      <td>ICubes</td>\n",
       "      <td>3 LPA</td>\n",
       "      <td>27 Oct' 21</td>\n",
       "    </tr>\n",
       "    <tr>\n",
       "      <td>4</td>\n",
       "      <td>Junior Equity Research Analyst</td>\n",
       "      <td>Saurashtra Freight Private Limited</td>\n",
       "      <td>3 - 3.5 LPA</td>\n",
       "      <td>27 Oct' 21</td>\n",
       "    </tr>\n",
       "    <tr>\n",
       "      <td>5</td>\n",
       "      <td>Digital Marketing Associate</td>\n",
       "      <td>ActiveLoc</td>\n",
       "      <td>3 - 4 LPA</td>\n",
       "      <td>27 Oct' 21</td>\n",
       "    </tr>\n",
       "    <tr>\n",
       "      <td>6</td>\n",
       "      <td>Associate Consultant</td>\n",
       "      <td>Peer Hunt</td>\n",
       "      <td>3 - 5 LPA</td>\n",
       "      <td>27 Oct' 21</td>\n",
       "    </tr>\n",
       "    <tr>\n",
       "      <td>7</td>\n",
       "      <td>Software Developer</td>\n",
       "      <td>Vitra.ai</td>\n",
       "      <td>6.6 LPA</td>\n",
       "      <td>27 Oct' 21</td>\n",
       "    </tr>\n",
       "    <tr>\n",
       "      <td>8</td>\n",
       "      <td>Cluster Manager</td>\n",
       "      <td>Gigforce Private Limited</td>\n",
       "      <td>4 - 6 LPA</td>\n",
       "      <td>27 Oct' 21</td>\n",
       "    </tr>\n",
       "    <tr>\n",
       "      <td>9</td>\n",
       "      <td>Inside Sales Associate</td>\n",
       "      <td>Xobin</td>\n",
       "      <td>3.5 - 4.6 LPA</td>\n",
       "      <td>27 Oct' 21</td>\n",
       "    </tr>\n",
       "  </tbody>\n",
       "</table>\n",
       "</div>"
      ],
      "text/plain": [
       "                                           Job Title  \\\n",
       "0                         Lead Generation Associate    \n",
       "1                    Business Development Associate    \n",
       "2                          Accounts And MIS Manager    \n",
       "3  Junior Search Engine Optimization (SEO) Execut...   \n",
       "4                    Junior Equity Research Analyst    \n",
       "5                       Digital Marketing Associate    \n",
       "6                              Associate Consultant    \n",
       "7                                Software Developer    \n",
       "8                                   Cluster Manager    \n",
       "9                            Inside Sales Associate    \n",
       "\n",
       "                         Company Name            CTC  Apply Date  \n",
       "0               CommVersion Solutions      3 - 6 LPA  27 Oct' 21  \n",
       "1                          Web Assets      3 - 8 LPA  27 Oct' 21  \n",
       "2                        Little Olive    3 - 3.2 LPA  27 Oct' 21  \n",
       "3                              ICubes          3 LPA  27 Oct' 21  \n",
       "4  Saurashtra Freight Private Limited    3 - 3.5 LPA  27 Oct' 21  \n",
       "5                           ActiveLoc      3 - 4 LPA  27 Oct' 21  \n",
       "6                           Peer Hunt      3 - 5 LPA  27 Oct' 21  \n",
       "7                            Vitra.ai        6.6 LPA  27 Oct' 21  \n",
       "8            Gigforce Private Limited      4 - 6 LPA  27 Oct' 21  \n",
       "9                               Xobin  3.5 - 4.6 LPA  27 Oct' 21  "
      ]
     },
     "execution_count": 5,
     "metadata": {},
     "output_type": "execute_result"
    }
   ],
   "source": [
    "import pandas as pd\n",
    "\n",
    "fresher_job_listings = pd.DataFrame({'Job Title':job_title,\n",
    "                                        'Company Name':company_name,\n",
    "                                        'CTC':ctc,\n",
    "                                    'Apply Date':apply_date})\n",
    "fresher_job_listings\n"
   ]
  },
  {
   "cell_type": "markdown",
   "metadata": {},
   "source": [
    "# 10. Write a python program to scrape house details from https://www.nobroker.in/ for any location. It should include house title, location, area, emi and price"
   ]
  },
  {
   "cell_type": "code",
   "execution_count": 1,
   "metadata": {},
   "outputs": [],
   "source": [
    "from bs4 import BeautifulSoup\n",
    "import requests"
   ]
  },
  {
   "cell_type": "code",
   "execution_count": 2,
   "metadata": {},
   "outputs": [
    {
     "name": "stdout",
     "output_type": "stream",
     "text": [
      "<Response [200]>\n"
     ]
    }
   ],
   "source": [
    "url = 'https://www.nobroker.in/flats-for-sale-in-navi_mumbai_mumbai'\n",
    "request = requests.get(url)\n",
    "print(request)\n",
    "page = request.content\n",
    "soup = BeautifulSoup(page)\n",
    "prettify = soup.prettify()"
   ]
  },
  {
   "cell_type": "code",
   "execution_count": 3,
   "metadata": {},
   "outputs": [],
   "source": [
    "house_title = []\n",
    "location = []\n",
    "area = []\n",
    "EMI = []\n",
    "Price = []\n",
    "container = []\n",
    "box = []"
   ]
  },
  {
   "cell_type": "code",
   "execution_count": 4,
   "metadata": {},
   "outputs": [
    {
     "name": "stdout",
     "output_type": "stream",
     "text": [
      "10\n",
      "10\n",
      "10\n",
      "10\n",
      "10\n"
     ]
    }
   ],
   "source": [
    "title = soup.find_all('h2',class_='heading-6 font-semi-bold nb__1AShY')\n",
    "loc_ = soup.find_all('div',class_='nb__2CMjv')\n",
    "land = soup.find_all('div',class_='nb__3oNyC')\n",
    "emi = soup.find_all('div',class_='font-semi-bold heading-6')\n",
    "price = soup.find_all(\"div.font-semi-bold.heading-6 > span\")\n",
    "\n",
    "for i in title:\n",
    "    for j in i.find_all('span'):\n",
    "        house_title.append(j.text)\n",
    "print(len(house_title))\n",
    "        \n",
    "for i in loc_:\n",
    "    location.append(i.text)\n",
    "print(len(location))\n",
    "\n",
    "for i in emi:\n",
    "    container.append(i.text)\n",
    "for i in range(0,len(container)):\n",
    "    if i%3:\n",
    "        box.append(container[i])\n",
    "    else:\n",
    "        area.append(container[i])\n",
    "print(len(area))\n",
    "\n",
    "for i in range(0,len(box)):\n",
    "    if i%2:\n",
    "        Price.append(box[i])\n",
    "    else:\n",
    "        EMI.append(box[i])\n",
    "print(len(EMI))\n",
    "print(len(Price))\n",
    "    "
   ]
  },
  {
   "cell_type": "code",
   "execution_count": 6,
   "metadata": {},
   "outputs": [
    {
     "data": {
      "text/html": [
       "<div>\n",
       "<style scoped>\n",
       "    .dataframe tbody tr th:only-of-type {\n",
       "        vertical-align: middle;\n",
       "    }\n",
       "\n",
       "    .dataframe tbody tr th {\n",
       "        vertical-align: top;\n",
       "    }\n",
       "\n",
       "    .dataframe thead th {\n",
       "        text-align: right;\n",
       "    }\n",
       "</style>\n",
       "<table border=\"1\" class=\"dataframe\">\n",
       "  <thead>\n",
       "    <tr style=\"text-align: right;\">\n",
       "      <th></th>\n",
       "      <th>House Title</th>\n",
       "      <th>Location</th>\n",
       "      <th>Area</th>\n",
       "      <th>EMI</th>\n",
       "      <th>Price</th>\n",
       "    </tr>\n",
       "  </thead>\n",
       "  <tbody>\n",
       "    <tr>\n",
       "      <td>0</td>\n",
       "      <td>1 BHK Flat  For Sale  In Nerul West, Nerul</td>\n",
       "      <td>Standalone Building, Tirupati palace, Sector 1...</td>\n",
       "      <td>430 sqft</td>\n",
       "      <td>₹42,985/Month</td>\n",
       "      <td>₹75 Lacs</td>\n",
       "    </tr>\n",
       "    <tr>\n",
       "      <td>1</td>\n",
       "      <td>2 BHK Flat  For Sale  In Shakti Residency In S...</td>\n",
       "      <td>Shakti Residency, Sector 5, Ulwe, Navi Mumbai,...</td>\n",
       "      <td>1,080 sqft</td>\n",
       "      <td>₹60,180/Month</td>\n",
       "      <td>₹1.05 Crores</td>\n",
       "    </tr>\n",
       "    <tr>\n",
       "      <td>2</td>\n",
       "      <td>2 BHK For Sale  In Kendriya Vihar In Kharghar</td>\n",
       "      <td>Kendriya Vihar  Sector 11, Kharghar Navi Mumba...</td>\n",
       "      <td>900 sqft</td>\n",
       "      <td>₹48,717/Month</td>\n",
       "      <td>₹85 Lacs</td>\n",
       "    </tr>\n",
       "    <tr>\n",
       "      <td>3</td>\n",
       "      <td>1 BHK Flat  For Sale  In Airoli</td>\n",
       "      <td>Standalone Building, Sector 8, opposite Shree ...</td>\n",
       "      <td>650 sqft</td>\n",
       "      <td>₹41,266/Month</td>\n",
       "      <td>₹72 Lacs</td>\n",
       "    </tr>\n",
       "    <tr>\n",
       "      <td>4</td>\n",
       "      <td>1 BHK Flat  For Sale  In Sai Kutir Chs Airoli ...</td>\n",
       "      <td>Near Ganesh visarjan Talav</td>\n",
       "      <td>625 sqft</td>\n",
       "      <td>₹34,388/Month</td>\n",
       "      <td>₹60 Lacs</td>\n",
       "    </tr>\n",
       "    <tr>\n",
       "      <td>5</td>\n",
       "      <td>1 BHK Flat  For Sale  In Suman Chs In Nerul</td>\n",
       "      <td>Nerul East, Shiravane, sector 21 near Royal p...</td>\n",
       "      <td>500 sqft</td>\n",
       "      <td>₹41,839/Month</td>\n",
       "      <td>₹73 Lacs</td>\n",
       "    </tr>\n",
       "    <tr>\n",
       "      <td>6</td>\n",
       "      <td>2 BHK Apartment  For Sale  In Marathon Nexzone...</td>\n",
       "      <td>Marathon Nexzone  NPT Road, Near, NH 4B, Palas...</td>\n",
       "      <td>891 sqft</td>\n",
       "      <td>₹39,546/Month</td>\n",
       "      <td>₹69 Lacs</td>\n",
       "    </tr>\n",
       "    <tr>\n",
       "      <td>7</td>\n",
       "      <td>3 BHK Flat  For Sale  In Sai Krupa Housing Soc...</td>\n",
       "      <td>Near Apolo hospital, Sector 27</td>\n",
       "      <td>1,245 sqft</td>\n",
       "      <td>₹1.13 Lacs/Month</td>\n",
       "      <td>₹1.98 Crores</td>\n",
       "    </tr>\n",
       "    <tr>\n",
       "      <td>8</td>\n",
       "      <td>2 BHK Flat  For Sale  In Shreeji Dham Chs Ltd ...</td>\n",
       "      <td>Rama Gosavi Marg,Shreeji Dham, Sector 7 Near M...</td>\n",
       "      <td>1,500 sqft</td>\n",
       "      <td>₹1.46 Lacs/Month</td>\n",
       "      <td>₹2.55 Crores</td>\n",
       "    </tr>\n",
       "    <tr>\n",
       "      <td>9</td>\n",
       "      <td>2 BHK Flat  For Sale  In Raghunath Vihar In Kh...</td>\n",
       "      <td>near Raghunath  vihar metro station ,   Kesar...</td>\n",
       "      <td>1,200 sqft</td>\n",
       "      <td>₹76,228/Month</td>\n",
       "      <td>₹1.33 Crores</td>\n",
       "    </tr>\n",
       "  </tbody>\n",
       "</table>\n",
       "</div>"
      ],
      "text/plain": [
       "                                         House Title  \\\n",
       "0         1 BHK Flat  For Sale  In Nerul West, Nerul   \n",
       "1  2 BHK Flat  For Sale  In Shakti Residency In S...   \n",
       "2      2 BHK For Sale  In Kendriya Vihar In Kharghar   \n",
       "3                    1 BHK Flat  For Sale  In Airoli   \n",
       "4  1 BHK Flat  For Sale  In Sai Kutir Chs Airoli ...   \n",
       "5        1 BHK Flat  For Sale  In Suman Chs In Nerul   \n",
       "6  2 BHK Apartment  For Sale  In Marathon Nexzone...   \n",
       "7  3 BHK Flat  For Sale  In Sai Krupa Housing Soc...   \n",
       "8  2 BHK Flat  For Sale  In Shreeji Dham Chs Ltd ...   \n",
       "9  2 BHK Flat  For Sale  In Raghunath Vihar In Kh...   \n",
       "\n",
       "                                            Location        Area  \\\n",
       "0  Standalone Building, Tirupati palace, Sector 1...    430 sqft   \n",
       "1  Shakti Residency, Sector 5, Ulwe, Navi Mumbai,...  1,080 sqft   \n",
       "2  Kendriya Vihar  Sector 11, Kharghar Navi Mumba...    900 sqft   \n",
       "3  Standalone Building, Sector 8, opposite Shree ...    650 sqft   \n",
       "4                         Near Ganesh visarjan Talav    625 sqft   \n",
       "5   Nerul East, Shiravane, sector 21 near Royal p...    500 sqft   \n",
       "6  Marathon Nexzone  NPT Road, Near, NH 4B, Palas...    891 sqft   \n",
       "7                     Near Apolo hospital, Sector 27  1,245 sqft   \n",
       "8  Rama Gosavi Marg,Shreeji Dham, Sector 7 Near M...  1,500 sqft   \n",
       "9   near Raghunath  vihar metro station ,   Kesar...  1,200 sqft   \n",
       "\n",
       "                EMI         Price  \n",
       "0     ₹42,985/Month      ₹75 Lacs  \n",
       "1     ₹60,180/Month  ₹1.05 Crores  \n",
       "2     ₹48,717/Month      ₹85 Lacs  \n",
       "3     ₹41,266/Month      ₹72 Lacs  \n",
       "4     ₹34,388/Month      ₹60 Lacs  \n",
       "5     ₹41,839/Month      ₹73 Lacs  \n",
       "6     ₹39,546/Month      ₹69 Lacs  \n",
       "7  ₹1.13 Lacs/Month  ₹1.98 Crores  \n",
       "8  ₹1.46 Lacs/Month  ₹2.55 Crores  \n",
       "9     ₹76,228/Month  ₹1.33 Crores  "
      ]
     },
     "execution_count": 6,
     "metadata": {},
     "output_type": "execute_result"
    }
   ],
   "source": [
    "import pandas as pd\n",
    "\n",
    "house_details = pd.DataFrame({'House Title':house_title,\n",
    "                                'Location':location,\n",
    "                                'Area':area,\n",
    "                                'EMI':EMI,\n",
    "                                'Price':Price})\n",
    "house_details\n"
   ]
  }
 ],
 "metadata": {
  "kernelspec": {
   "display_name": "Python 3",
   "language": "python",
   "name": "python3"
  },
  "language_info": {
   "codemirror_mode": {
    "name": "ipython",
    "version": 3
   },
   "file_extension": ".py",
   "mimetype": "text/x-python",
   "name": "python",
   "nbconvert_exporter": "python",
   "pygments_lexer": "ipython3",
   "version": "3.7.4"
  }
 },
 "nbformat": 4,
 "nbformat_minor": 2
}
